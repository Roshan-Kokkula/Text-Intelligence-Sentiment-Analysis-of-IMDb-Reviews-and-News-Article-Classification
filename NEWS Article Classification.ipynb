{
 "cells": [
  {
   "cell_type": "markdown",
   "id": "a4525fdd-6044-4f90-a4c5-de2d7433b906",
   "metadata": {},
   "source": [
    "# NEWS Article Classification"
   ]
  },
  {
   "cell_type": "markdown",
   "id": "c3196eb0-8604-4020-af86-05b3652b55c1",
   "metadata": {},
   "source": [
    "### Problem Statement"
   ]
  },
  {
   "cell_type": "markdown",
   "id": "5b01aa3a-1b50-47ed-b273-f1484da7ffcd",
   "metadata": {},
   "source": [
    "The primary objective of this project is to build a classification model that can automatically\n",
    "categorize news articles into different predefined categories."
   ]
  },
  {
   "cell_type": "code",
   "execution_count": 4,
   "id": "c76e14ee-5c3c-49d1-bb82-879a9380c36c",
   "metadata": {},
   "outputs": [],
   "source": [
    "# Imporing necessary libraries\n",
    "import pandas as pd\n",
    "import numpy as np \n",
    "import seaborn as sns\n",
    "import matplotlib.pyplot as plt"
   ]
  },
  {
   "cell_type": "code",
   "execution_count": 5,
   "id": "37312e59-24fc-4710-b855-ca8448c52e6d",
   "metadata": {},
   "outputs": [
    {
     "data": {
      "text/html": [
       "<div>\n",
       "<style scoped>\n",
       "    .dataframe tbody tr th:only-of-type {\n",
       "        vertical-align: middle;\n",
       "    }\n",
       "\n",
       "    .dataframe tbody tr th {\n",
       "        vertical-align: top;\n",
       "    }\n",
       "\n",
       "    .dataframe thead th {\n",
       "        text-align: right;\n",
       "    }\n",
       "</style>\n",
       "<table border=\"1\" class=\"dataframe\">\n",
       "  <thead>\n",
       "    <tr style=\"text-align: right;\">\n",
       "      <th></th>\n",
       "      <th>category</th>\n",
       "      <th>headline</th>\n",
       "      <th>links</th>\n",
       "      <th>short_description</th>\n",
       "      <th>keywords</th>\n",
       "    </tr>\n",
       "  </thead>\n",
       "  <tbody>\n",
       "    <tr>\n",
       "      <th>0</th>\n",
       "      <td>WELLNESS</td>\n",
       "      <td>143 Miles in 35 Days: Lessons Learned</td>\n",
       "      <td>https://www.huffingtonpost.com/entry/running-l...</td>\n",
       "      <td>Resting is part of training. I've confirmed wh...</td>\n",
       "      <td>running-lessons</td>\n",
       "    </tr>\n",
       "    <tr>\n",
       "      <th>1</th>\n",
       "      <td>WELLNESS</td>\n",
       "      <td>Talking to Yourself: Crazy or Crazy Helpful?</td>\n",
       "      <td>https://www.huffingtonpost.com/entry/talking-t...</td>\n",
       "      <td>Think of talking to yourself as a tool to coac...</td>\n",
       "      <td>talking-to-yourself-crazy</td>\n",
       "    </tr>\n",
       "    <tr>\n",
       "      <th>2</th>\n",
       "      <td>WELLNESS</td>\n",
       "      <td>Crenezumab: Trial Will Gauge Whether Alzheimer...</td>\n",
       "      <td>https://www.huffingtonpost.com/entry/crenezuma...</td>\n",
       "      <td>The clock is ticking for the United States to ...</td>\n",
       "      <td>crenezumab-alzheimers-disease-drug</td>\n",
       "    </tr>\n",
       "    <tr>\n",
       "      <th>3</th>\n",
       "      <td>WELLNESS</td>\n",
       "      <td>Oh, What a Difference She Made</td>\n",
       "      <td>https://www.huffingtonpost.com/entry/meaningfu...</td>\n",
       "      <td>If you want to be busy, keep trying to be perf...</td>\n",
       "      <td>meaningful-life</td>\n",
       "    </tr>\n",
       "    <tr>\n",
       "      <th>4</th>\n",
       "      <td>WELLNESS</td>\n",
       "      <td>Green Superfoods</td>\n",
       "      <td>https://www.huffingtonpost.com/entry/green-sup...</td>\n",
       "      <td>First, the bad news: Soda bread, corned beef a...</td>\n",
       "      <td>green-superfoods</td>\n",
       "    </tr>\n",
       "  </tbody>\n",
       "</table>\n",
       "</div>"
      ],
      "text/plain": [
       "   category                                           headline  \\\n",
       "0  WELLNESS              143 Miles in 35 Days: Lessons Learned   \n",
       "1  WELLNESS       Talking to Yourself: Crazy or Crazy Helpful?   \n",
       "2  WELLNESS  Crenezumab: Trial Will Gauge Whether Alzheimer...   \n",
       "3  WELLNESS                     Oh, What a Difference She Made   \n",
       "4  WELLNESS                                   Green Superfoods   \n",
       "\n",
       "                                               links  \\\n",
       "0  https://www.huffingtonpost.com/entry/running-l...   \n",
       "1  https://www.huffingtonpost.com/entry/talking-t...   \n",
       "2  https://www.huffingtonpost.com/entry/crenezuma...   \n",
       "3  https://www.huffingtonpost.com/entry/meaningfu...   \n",
       "4  https://www.huffingtonpost.com/entry/green-sup...   \n",
       "\n",
       "                                   short_description  \\\n",
       "0  Resting is part of training. I've confirmed wh...   \n",
       "1  Think of talking to yourself as a tool to coac...   \n",
       "2  The clock is ticking for the United States to ...   \n",
       "3  If you want to be busy, keep trying to be perf...   \n",
       "4  First, the bad news: Soda bread, corned beef a...   \n",
       "\n",
       "                             keywords  \n",
       "0                     running-lessons  \n",
       "1           talking-to-yourself-crazy  \n",
       "2  crenezumab-alzheimers-disease-drug  \n",
       "3                     meaningful-life  \n",
       "4                    green-superfoods  "
      ]
     },
     "execution_count": 5,
     "metadata": {},
     "output_type": "execute_result"
    }
   ],
   "source": [
    "# Loading the dataset and having a view at first few rows\n",
    "df = pd.read_csv(\"data_news - data_news.csv\")\n",
    "df.head()"
   ]
  },
  {
   "cell_type": "code",
   "execution_count": 6,
   "id": "0cf0640a-d336-49fe-99ea-204c3d16e95b",
   "metadata": {},
   "outputs": [
    {
     "data": {
      "text/plain": [
       "(50000, 5)"
      ]
     },
     "execution_count": 6,
     "metadata": {},
     "output_type": "execute_result"
    }
   ],
   "source": [
    "# Having a look at Total Number of Rows and columns\n",
    "df.shape"
   ]
  },
  {
   "cell_type": "code",
   "execution_count": 7,
   "id": "54501cbe-7a38-4cb2-b3e1-555be8bc479d",
   "metadata": {},
   "outputs": [
    {
     "name": "stdout",
     "output_type": "stream",
     "text": [
      "<class 'pandas.core.frame.DataFrame'>\n",
      "RangeIndex: 50000 entries, 0 to 49999\n",
      "Data columns (total 5 columns):\n",
      " #   Column             Non-Null Count  Dtype \n",
      "---  ------             --------------  ----- \n",
      " 0   category           50000 non-null  object\n",
      " 1   headline           50000 non-null  object\n",
      " 2   links              50000 non-null  object\n",
      " 3   short_description  50000 non-null  object\n",
      " 4   keywords           47332 non-null  object\n",
      "dtypes: object(5)\n",
      "memory usage: 1.9+ MB\n"
     ]
    }
   ],
   "source": [
    "\n",
    "df.info()"
   ]
  },
  {
   "cell_type": "code",
   "execution_count": 8,
   "id": "8e6dcd28-b673-4e47-b87e-a84328d80ac9",
   "metadata": {},
   "outputs": [
    {
     "data": {
      "text/plain": [
       "category                0\n",
       "headline                0\n",
       "links                   0\n",
       "short_description       0\n",
       "keywords             2668\n",
       "dtype: int64"
      ]
     },
     "execution_count": 8,
     "metadata": {},
     "output_type": "execute_result"
    }
   ],
   "source": [
    "# Checking for null values in the dataset\n",
    "df.isnull().sum()"
   ]
  },
  {
   "cell_type": "markdown",
   "id": "0b8a05be-7016-479c-ab00-9764e944881d",
   "metadata": {},
   "source": [
    "We can see that there are significant null values in the column of Keywords in the dataset.So we try to fill those values with empty strings."
   ]
  },
  {
   "cell_type": "code",
   "execution_count": 10,
   "id": "f318e394-4c1f-4c7a-af4a-c096b4bee444",
   "metadata": {},
   "outputs": [],
   "source": [
    "# filling null values with empty strings \n",
    "df['keywords'] = df['keywords'].fillna('')"
   ]
  },
  {
   "cell_type": "code",
   "execution_count": 11,
   "id": "ea2f0283-8592-44eb-be30-c1ace561afc2",
   "metadata": {},
   "outputs": [
    {
     "data": {
      "text/plain": [
       "category             0\n",
       "headline             0\n",
       "links                0\n",
       "short_description    0\n",
       "keywords             0\n",
       "dtype: int64"
      ]
     },
     "execution_count": 11,
     "metadata": {},
     "output_type": "execute_result"
    }
   ],
   "source": [
    "# Checking whether null values removed or not in the dataset\n",
    "df.isnull().sum()"
   ]
  },
  {
   "cell_type": "markdown",
   "id": "8123484b-795f-4b9e-a630-1811cf3752cb",
   "metadata": {},
   "source": [
    "From above we can conclude that we are sucessfull in replacing the null values. "
   ]
  },
  {
   "cell_type": "code",
   "execution_count": 13,
   "id": "1537556e-b939-4898-bc9d-0762541a0a63",
   "metadata": {},
   "outputs": [
    {
     "data": {
      "text/plain": [
       "Index(['category', 'headline', 'links', 'short_description', 'keywords'], dtype='object')"
      ]
     },
     "execution_count": 13,
     "metadata": {},
     "output_type": "execute_result"
    }
   ],
   "source": [
    "# Looing look at the columns available in the dataset.\n",
    "df.columns"
   ]
  },
  {
   "cell_type": "code",
   "execution_count": 14,
   "id": "8c4a636d-260a-4363-a843-91aa6ff45452",
   "metadata": {},
   "outputs": [
    {
     "data": {
      "text/html": [
       "<div>\n",
       "<style scoped>\n",
       "    .dataframe tbody tr th:only-of-type {\n",
       "        vertical-align: middle;\n",
       "    }\n",
       "\n",
       "    .dataframe tbody tr th {\n",
       "        vertical-align: top;\n",
       "    }\n",
       "\n",
       "    .dataframe thead th {\n",
       "        text-align: right;\n",
       "    }\n",
       "</style>\n",
       "<table border=\"1\" class=\"dataframe\">\n",
       "  <thead>\n",
       "    <tr style=\"text-align: right;\">\n",
       "      <th></th>\n",
       "      <th>category</th>\n",
       "      <th>headline</th>\n",
       "      <th>short_description</th>\n",
       "      <th>keywords</th>\n",
       "    </tr>\n",
       "  </thead>\n",
       "  <tbody>\n",
       "    <tr>\n",
       "      <th>0</th>\n",
       "      <td>WELLNESS</td>\n",
       "      <td>143 Miles in 35 Days: Lessons Learned</td>\n",
       "      <td>Resting is part of training. I've confirmed wh...</td>\n",
       "      <td>running-lessons</td>\n",
       "    </tr>\n",
       "    <tr>\n",
       "      <th>1</th>\n",
       "      <td>WELLNESS</td>\n",
       "      <td>Talking to Yourself: Crazy or Crazy Helpful?</td>\n",
       "      <td>Think of talking to yourself as a tool to coac...</td>\n",
       "      <td>talking-to-yourself-crazy</td>\n",
       "    </tr>\n",
       "    <tr>\n",
       "      <th>2</th>\n",
       "      <td>WELLNESS</td>\n",
       "      <td>Crenezumab: Trial Will Gauge Whether Alzheimer...</td>\n",
       "      <td>The clock is ticking for the United States to ...</td>\n",
       "      <td>crenezumab-alzheimers-disease-drug</td>\n",
       "    </tr>\n",
       "    <tr>\n",
       "      <th>3</th>\n",
       "      <td>WELLNESS</td>\n",
       "      <td>Oh, What a Difference She Made</td>\n",
       "      <td>If you want to be busy, keep trying to be perf...</td>\n",
       "      <td>meaningful-life</td>\n",
       "    </tr>\n",
       "    <tr>\n",
       "      <th>4</th>\n",
       "      <td>WELLNESS</td>\n",
       "      <td>Green Superfoods</td>\n",
       "      <td>First, the bad news: Soda bread, corned beef a...</td>\n",
       "      <td>green-superfoods</td>\n",
       "    </tr>\n",
       "  </tbody>\n",
       "</table>\n",
       "</div>"
      ],
      "text/plain": [
       "   category                                           headline  \\\n",
       "0  WELLNESS              143 Miles in 35 Days: Lessons Learned   \n",
       "1  WELLNESS       Talking to Yourself: Crazy or Crazy Helpful?   \n",
       "2  WELLNESS  Crenezumab: Trial Will Gauge Whether Alzheimer...   \n",
       "3  WELLNESS                     Oh, What a Difference She Made   \n",
       "4  WELLNESS                                   Green Superfoods   \n",
       "\n",
       "                                   short_description  \\\n",
       "0  Resting is part of training. I've confirmed wh...   \n",
       "1  Think of talking to yourself as a tool to coac...   \n",
       "2  The clock is ticking for the United States to ...   \n",
       "3  If you want to be busy, keep trying to be perf...   \n",
       "4  First, the bad news: Soda bread, corned beef a...   \n",
       "\n",
       "                             keywords  \n",
       "0                     running-lessons  \n",
       "1           talking-to-yourself-crazy  \n",
       "2  crenezumab-alzheimers-disease-drug  \n",
       "3                     meaningful-life  \n",
       "4                    green-superfoods  "
      ]
     },
     "execution_count": 14,
     "metadata": {},
     "output_type": "execute_result"
    }
   ],
   "source": [
    "# dropping unwanted columns like links\n",
    "df = df.drop(['links'],axis = 1)\n",
    "df.head()"
   ]
  },
  {
   "cell_type": "code",
   "execution_count": 15,
   "id": "346fbc9a-40bd-4fa2-bdd7-102ba909e4d5",
   "metadata": {},
   "outputs": [
    {
     "data": {
      "text/html": [
       "<div>\n",
       "<style scoped>\n",
       "    .dataframe tbody tr th:only-of-type {\n",
       "        vertical-align: middle;\n",
       "    }\n",
       "\n",
       "    .dataframe tbody tr th {\n",
       "        vertical-align: top;\n",
       "    }\n",
       "\n",
       "    .dataframe thead th {\n",
       "        text-align: right;\n",
       "    }\n",
       "</style>\n",
       "<table border=\"1\" class=\"dataframe\">\n",
       "  <thead>\n",
       "    <tr style=\"text-align: right;\">\n",
       "      <th></th>\n",
       "      <th>category</th>\n",
       "      <th>headline</th>\n",
       "      <th>short_description</th>\n",
       "      <th>keywords</th>\n",
       "      <th>preprocessed_text</th>\n",
       "    </tr>\n",
       "  </thead>\n",
       "  <tbody>\n",
       "    <tr>\n",
       "      <th>0</th>\n",
       "      <td>WELLNESS</td>\n",
       "      <td>143 Miles in 35 Days: Lessons Learned</td>\n",
       "      <td>Resting is part of training. I've confirmed wh...</td>\n",
       "      <td>running-lessons</td>\n",
       "      <td>143 Miles in 35 Days: Lessons Learned Resting ...</td>\n",
       "    </tr>\n",
       "    <tr>\n",
       "      <th>1</th>\n",
       "      <td>WELLNESS</td>\n",
       "      <td>Talking to Yourself: Crazy or Crazy Helpful?</td>\n",
       "      <td>Think of talking to yourself as a tool to coac...</td>\n",
       "      <td>talking-to-yourself-crazy</td>\n",
       "      <td>Talking to Yourself: Crazy or Crazy Helpful? T...</td>\n",
       "    </tr>\n",
       "    <tr>\n",
       "      <th>2</th>\n",
       "      <td>WELLNESS</td>\n",
       "      <td>Crenezumab: Trial Will Gauge Whether Alzheimer...</td>\n",
       "      <td>The clock is ticking for the United States to ...</td>\n",
       "      <td>crenezumab-alzheimers-disease-drug</td>\n",
       "      <td>Crenezumab: Trial Will Gauge Whether Alzheimer...</td>\n",
       "    </tr>\n",
       "    <tr>\n",
       "      <th>3</th>\n",
       "      <td>WELLNESS</td>\n",
       "      <td>Oh, What a Difference She Made</td>\n",
       "      <td>If you want to be busy, keep trying to be perf...</td>\n",
       "      <td>meaningful-life</td>\n",
       "      <td>Oh, What a Difference She Made If you want to ...</td>\n",
       "    </tr>\n",
       "    <tr>\n",
       "      <th>4</th>\n",
       "      <td>WELLNESS</td>\n",
       "      <td>Green Superfoods</td>\n",
       "      <td>First, the bad news: Soda bread, corned beef a...</td>\n",
       "      <td>green-superfoods</td>\n",
       "      <td>Green Superfoods First, the bad news: Soda bre...</td>\n",
       "    </tr>\n",
       "  </tbody>\n",
       "</table>\n",
       "</div>"
      ],
      "text/plain": [
       "   category                                           headline  \\\n",
       "0  WELLNESS              143 Miles in 35 Days: Lessons Learned   \n",
       "1  WELLNESS       Talking to Yourself: Crazy or Crazy Helpful?   \n",
       "2  WELLNESS  Crenezumab: Trial Will Gauge Whether Alzheimer...   \n",
       "3  WELLNESS                     Oh, What a Difference She Made   \n",
       "4  WELLNESS                                   Green Superfoods   \n",
       "\n",
       "                                   short_description  \\\n",
       "0  Resting is part of training. I've confirmed wh...   \n",
       "1  Think of talking to yourself as a tool to coac...   \n",
       "2  The clock is ticking for the United States to ...   \n",
       "3  If you want to be busy, keep trying to be perf...   \n",
       "4  First, the bad news: Soda bread, corned beef a...   \n",
       "\n",
       "                             keywords  \\\n",
       "0                     running-lessons   \n",
       "1           talking-to-yourself-crazy   \n",
       "2  crenezumab-alzheimers-disease-drug   \n",
       "3                     meaningful-life   \n",
       "4                    green-superfoods   \n",
       "\n",
       "                                   preprocessed_text  \n",
       "0  143 Miles in 35 Days: Lessons Learned Resting ...  \n",
       "1  Talking to Yourself: Crazy or Crazy Helpful? T...  \n",
       "2  Crenezumab: Trial Will Gauge Whether Alzheimer...  \n",
       "3  Oh, What a Difference She Made If you want to ...  \n",
       "4  Green Superfoods First, the bad news: Soda bre...  "
      ]
     },
     "execution_count": 15,
     "metadata": {},
     "output_type": "execute_result"
    }
   ],
   "source": [
    "# Creating a new column in dataset combing all the headline,description and keywords columns.\n",
    "df['preprocessed_text'] = df['headline'] + ' ' + df['short_description'] + ' ' + df['keywords']\n",
    "df.head()"
   ]
  },
  {
   "cell_type": "code",
   "execution_count": 16,
   "id": "0ffaefcc-e341-4e9d-a599-482a44b72611",
   "metadata": {},
   "outputs": [
    {
     "data": {
      "text/plain": [
       "10"
      ]
     },
     "execution_count": 16,
     "metadata": {},
     "output_type": "execute_result"
    }
   ],
   "source": [
    "# Checking for how unique number of categories are available.\n",
    "df['category'].nunique()"
   ]
  },
  {
   "cell_type": "code",
   "execution_count": 17,
   "id": "0f61f8fa-3711-4242-af30-8e85002d0fb6",
   "metadata": {},
   "outputs": [
    {
     "data": {
      "text/plain": [
       "category\n",
       "WELLNESS          5000\n",
       "POLITICS          5000\n",
       "ENTERTAINMENT     5000\n",
       "TRAVEL            5000\n",
       "STYLE & BEAUTY    5000\n",
       "PARENTING         5000\n",
       "FOOD & DRINK      5000\n",
       "WORLD NEWS        5000\n",
       "BUSINESS          5000\n",
       "SPORTS            5000\n",
       "Name: count, dtype: int64"
      ]
     },
     "execution_count": 17,
     "metadata": {},
     "output_type": "execute_result"
    }
   ],
   "source": [
    "df['category'].value_counts()"
   ]
  },
  {
   "cell_type": "markdown",
   "id": "97438db4-ebd9-4a21-8a02-4d1789cb9973",
   "metadata": {},
   "source": [
    "Here we can see that the distribution of all 10 categories are equally distibuted with 5000 label for each catagory.We can assue that this is a balanced dataset."
   ]
  },
  {
   "cell_type": "code",
   "execution_count": 19,
   "id": "1a7a324b-0b18-49ba-8859-f8758551be7c",
   "metadata": {},
   "outputs": [
    {
     "data": {
      "image/png": "[encoded data removed]",
      "text/plain": [
       "<Figure size 640x480 with 1 Axes>"
      ]
     },
     "metadata": {},
     "output_type": "display_data"
    }
   ],
   "source": [
    "# Distibution of category\n",
    "sns.countplot(y=df['category'])\n",
    "plt.title(\"Distibution of category\")\n",
    "plt.xlabel(\"Total Number of NEWS Articles\")\n",
    "plt.ylabel(\"NEWS Category\")\n",
    "plt.show()"
   ]
  },
  {
   "cell_type": "markdown",
   "id": "a686293b-a5de-4b24-8822-effbeaf436be",
   "metadata": {},
   "source": [
    "###  Performing data Cleaning and Text Preprocessing"
   ]
  },
  {
   "cell_type": "code",
   "execution_count": 21,
   "id": "44c63d0b-2a4e-4b19-8917-9cf55f8e76ff",
   "metadata": {},
   "outputs": [],
   "source": [
    "# Importing necessary Libraries for Text preprocessing\n",
    "import re\n",
    "import nltk\n",
    "from nltk.tokenize import word_tokenize,sent_tokenize\n",
    "from nltk.stem import WordNetLemmatizer\n",
    "from nltk.corpus import stopwords\n",
    "\n",
    "\n",
    "stop_words = set(stopwords.words(\"english\"))\n",
    "lemmatizer = WordNetLemmatizer()\n"
   ]
  },
  {
   "cell_type": "code",
   "execution_count": 22,
   "id": "ceeb6350-b272-41c8-8b39-363c8dce733d",
   "metadata": {},
   "outputs": [],
   "source": [
    "## Creation a function for Text Preprocessing\n",
    "\n",
    "def preprocessing(text):\n",
    "    text = text.lower() #converting to lower case\n",
    "    text = re.sub(r'[^a-z\\s]',\"\",text) #Removig the special characters\n",
    "    tokens = word_tokenize(text) # tokenzing the words\n",
    "    tokens = [word for word in tokens if word not in stop_words] #removing the stop words\n",
    "    tokens = [lemmatizer.lemmatize(word) for word in tokens]\n",
    "    return ' '.join(tokens) # joining back tokens to tect by giving space betwen the tokens\n",
    "    return text"
   ]
  },
  {
   "cell_type": "code",
   "execution_count": 23,
   "id": "adb64af2-946d-470a-bc3c-4f5bc70d838f",
   "metadata": {},
   "outputs": [
    {
     "data": {
      "text/html": [
       "<div>\n",
       "<style scoped>\n",
       "    .dataframe tbody tr th:only-of-type {\n",
       "        vertical-align: middle;\n",
       "    }\n",
       "\n",
       "    .dataframe tbody tr th {\n",
       "        vertical-align: top;\n",
       "    }\n",
       "\n",
       "    .dataframe thead th {\n",
       "        text-align: right;\n",
       "    }\n",
       "</style>\n",
       "<table border=\"1\" class=\"dataframe\">\n",
       "  <thead>\n",
       "    <tr style=\"text-align: right;\">\n",
       "      <th></th>\n",
       "      <th>category</th>\n",
       "      <th>headline</th>\n",
       "      <th>short_description</th>\n",
       "      <th>keywords</th>\n",
       "      <th>preprocessed_text</th>\n",
       "      <th>cleaned_text</th>\n",
       "    </tr>\n",
       "  </thead>\n",
       "  <tbody>\n",
       "    <tr>\n",
       "      <th>0</th>\n",
       "      <td>WELLNESS</td>\n",
       "      <td>143 Miles in 35 Days: Lessons Learned</td>\n",
       "      <td>Resting is part of training. I've confirmed wh...</td>\n",
       "      <td>running-lessons</td>\n",
       "      <td>143 Miles in 35 Days: Lessons Learned Resting ...</td>\n",
       "      <td>mile day lesson learned resting part training ...</td>\n",
       "    </tr>\n",
       "    <tr>\n",
       "      <th>1</th>\n",
       "      <td>WELLNESS</td>\n",
       "      <td>Talking to Yourself: Crazy or Crazy Helpful?</td>\n",
       "      <td>Think of talking to yourself as a tool to coac...</td>\n",
       "      <td>talking-to-yourself-crazy</td>\n",
       "      <td>Talking to Yourself: Crazy or Crazy Helpful? T...</td>\n",
       "      <td>talking crazy crazy helpful think talking tool...</td>\n",
       "    </tr>\n",
       "    <tr>\n",
       "      <th>2</th>\n",
       "      <td>WELLNESS</td>\n",
       "      <td>Crenezumab: Trial Will Gauge Whether Alzheimer...</td>\n",
       "      <td>The clock is ticking for the United States to ...</td>\n",
       "      <td>crenezumab-alzheimers-disease-drug</td>\n",
       "      <td>Crenezumab: Trial Will Gauge Whether Alzheimer...</td>\n",
       "      <td>crenezumab trial gauge whether alzheimers drug...</td>\n",
       "    </tr>\n",
       "    <tr>\n",
       "      <th>3</th>\n",
       "      <td>WELLNESS</td>\n",
       "      <td>Oh, What a Difference She Made</td>\n",
       "      <td>If you want to be busy, keep trying to be perf...</td>\n",
       "      <td>meaningful-life</td>\n",
       "      <td>Oh, What a Difference She Made If you want to ...</td>\n",
       "      <td>oh difference made want busy keep trying perfe...</td>\n",
       "    </tr>\n",
       "    <tr>\n",
       "      <th>4</th>\n",
       "      <td>WELLNESS</td>\n",
       "      <td>Green Superfoods</td>\n",
       "      <td>First, the bad news: Soda bread, corned beef a...</td>\n",
       "      <td>green-superfoods</td>\n",
       "      <td>Green Superfoods First, the bad news: Soda bre...</td>\n",
       "      <td>green superfoods first bad news soda bread cor...</td>\n",
       "    </tr>\n",
       "  </tbody>\n",
       "</table>\n",
       "</div>"
      ],
      "text/plain": [
       "   category                                           headline  \\\n",
       "0  WELLNESS              143 Miles in 35 Days: Lessons Learned   \n",
       "1  WELLNESS       Talking to Yourself: Crazy or Crazy Helpful?   \n",
       "2  WELLNESS  Crenezumab: Trial Will Gauge Whether Alzheimer...   \n",
       "3  WELLNESS                     Oh, What a Difference She Made   \n",
       "4  WELLNESS                                   Green Superfoods   \n",
       "\n",
       "                                   short_description  \\\n",
       "0  Resting is part of training. I've confirmed wh...   \n",
       "1  Think of talking to yourself as a tool to coac...   \n",
       "2  The clock is ticking for the United States to ...   \n",
       "3  If you want to be busy, keep trying to be perf...   \n",
       "4  First, the bad news: Soda bread, corned beef a...   \n",
       "\n",
       "                             keywords  \\\n",
       "0                     running-lessons   \n",
       "1           talking-to-yourself-crazy   \n",
       "2  crenezumab-alzheimers-disease-drug   \n",
       "3                     meaningful-life   \n",
       "4                    green-superfoods   \n",
       "\n",
       "                                   preprocessed_text  \\\n",
       "0  143 Miles in 35 Days: Lessons Learned Resting ...   \n",
       "1  Talking to Yourself: Crazy or Crazy Helpful? T...   \n",
       "2  Crenezumab: Trial Will Gauge Whether Alzheimer...   \n",
       "3  Oh, What a Difference She Made If you want to ...   \n",
       "4  Green Superfoods First, the bad news: Soda bre...   \n",
       "\n",
       "                                        cleaned_text  \n",
       "0  mile day lesson learned resting part training ...  \n",
       "1  talking crazy crazy helpful think talking tool...  \n",
       "2  crenezumab trial gauge whether alzheimers drug...  \n",
       "3  oh difference made want busy keep trying perfe...  \n",
       "4  green superfoods first bad news soda bread cor...  "
      ]
     },
     "execution_count": 23,
     "metadata": {},
     "output_type": "execute_result"
    }
   ],
   "source": [
    "# Adding a new column Cleaned text and apply the preprocessing function created before.\n",
    "df['cleaned_text']=df['preprocessed_text'].apply(preprocessing)\n",
    "df.head()"
   ]
  },
  {
   "cell_type": "markdown",
   "id": "31ee318e-e254-44f9-bd95-444c479b452c",
   "metadata": {},
   "source": [
    "## Feature Engineering"
   ]
  },
  {
   "cell_type": "markdown",
   "id": "0d36af80-66b8-4a24-9c79-19191c3927f7",
   "metadata": {},
   "source": [
    "### Feature extraction using techniques like TF-IDF,Bag of Words"
   ]
  },
  {
   "cell_type": "code",
   "execution_count": 26,
   "id": "d2c9854f-3969-4ce1-b299-49c2d2e16b8e",
   "metadata": {},
   "outputs": [],
   "source": [
    "# Assigning the Features and Target variables for Training the model\n",
    "x=df['cleaned_text']\n",
    "y = df['category']"
   ]
  },
  {
   "cell_type": "code",
   "execution_count": 27,
   "id": "ddfd3b24-26e0-4dcd-82c1-bb41f6d777f7",
   "metadata": {},
   "outputs": [],
   "source": [
    "# importing Tfidf vectorizer for conversion of textual data to numerical format for model training\n",
    "from sklearn.feature_extraction.text import TfidfVectorizer\n",
    "from sklearn.feature_extraction.text import CountVectorizer"
   ]
  },
  {
   "cell_type": "code",
   "execution_count": 28,
   "id": "b67a9ded-cd2e-4e5c-a1e5-a487b856bdd2",
   "metadata": {},
   "outputs": [],
   "source": [
    "# Converting textual data to numerical format using TF-IDF Vectorizer\n",
    "vectorizer = TfidfVectorizer(max_features=5000)\n",
    "x_train_tfidf = vectorizer.fit_transform(x)"
   ]
  },
  {
   "cell_type": "code",
   "execution_count": 29,
   "id": "42e6169f-15d4-4908-b5d6-5017dc888016",
   "metadata": {},
   "outputs": [],
   "source": [
    "# Converting textual data to numerical format using Count Vectorizer(Bag OF Words)\n",
    "c_vectorizer = CountVectorizer(max_features=5000)\n",
    "x_train_bow = c_vectorizer.fit_transform(x)"
   ]
  },
  {
   "cell_type": "markdown",
   "id": "ee54e322-12fc-4550-af38-2b51e905e411",
   "metadata": {},
   "source": [
    "#### Textual features"
   ]
  },
  {
   "cell_type": "code",
   "execution_count": 31,
   "id": "64b31485-a3a5-4918-91ec-1a383087cb91",
   "metadata": {},
   "outputs": [],
   "source": [
    "def extract_text_features(text):\n",
    "    words = word_tokenize(text)  # Tokenize words\n",
    "    sentences = sent_tokenize(text)  # Tokenize sentences\n",
    "    \n",
    "    word_count = len(words)  # Total words\n",
    "    char_count = len(text)  # Total characters\n",
    "    avg_word_length = char_count / word_count if word_count > 0 else 0  # Avg word length\n",
    "    sentence_count = len(sentences)  # Total sentences\n",
    "    \n",
    "    return pd.Series([word_count, char_count, avg_word_length, sentence_count])"
   ]
  },
  {
   "cell_type": "code",
   "execution_count": 32,
   "id": "6f40a653-9a84-4b76-8ab9-2452cd0c1b19",
   "metadata": {},
   "outputs": [],
   "source": [
    "# Apply feature extraction to prerocessed text column which is combination of headline,description and keywords for better analysis.\n",
    "df[[\"word_count\", \"char_count\", \"avg_word_length\", \"sentence_count\"]] = df[\"preprocessed_text\"].apply(extract_text_features)"
   ]
  },
  {
   "cell_type": "code",
   "execution_count": 33,
   "id": "44ef4a72-299d-4a7b-9f13-c0c6c060a029",
   "metadata": {},
   "outputs": [
    {
     "data": {
      "text/html": [
       "<div>\n",
       "<style scoped>\n",
       "    .dataframe tbody tr th:only-of-type {\n",
       "        vertical-align: middle;\n",
       "    }\n",
       "\n",
       "    .dataframe tbody tr th {\n",
       "        vertical-align: top;\n",
       "    }\n",
       "\n",
       "    .dataframe thead th {\n",
       "        text-align: right;\n",
       "    }\n",
       "</style>\n",
       "<table border=\"1\" class=\"dataframe\">\n",
       "  <thead>\n",
       "    <tr style=\"text-align: right;\">\n",
       "      <th></th>\n",
       "      <th>category</th>\n",
       "      <th>headline</th>\n",
       "      <th>short_description</th>\n",
       "      <th>keywords</th>\n",
       "      <th>preprocessed_text</th>\n",
       "      <th>cleaned_text</th>\n",
       "      <th>word_count</th>\n",
       "      <th>char_count</th>\n",
       "      <th>avg_word_length</th>\n",
       "      <th>sentence_count</th>\n",
       "    </tr>\n",
       "  </thead>\n",
       "  <tbody>\n",
       "    <tr>\n",
       "      <th>0</th>\n",
       "      <td>WELLNESS</td>\n",
       "      <td>143 Miles in 35 Days: Lessons Learned</td>\n",
       "      <td>Resting is part of training. I've confirmed wh...</td>\n",
       "      <td>running-lessons</td>\n",
       "      <td>143 Miles in 35 Days: Lessons Learned Resting ...</td>\n",
       "      <td>mile day lesson learned resting part training ...</td>\n",
       "      <td>69.0</td>\n",
       "      <td>334.0</td>\n",
       "      <td>4.840580</td>\n",
       "      <td>5.0</td>\n",
       "    </tr>\n",
       "    <tr>\n",
       "      <th>1</th>\n",
       "      <td>WELLNESS</td>\n",
       "      <td>Talking to Yourself: Crazy or Crazy Helpful?</td>\n",
       "      <td>Think of talking to yourself as a tool to coac...</td>\n",
       "      <td>talking-to-yourself-crazy</td>\n",
       "      <td>Talking to Yourself: Crazy or Crazy Helpful? T...</td>\n",
       "      <td>talking crazy crazy helpful think talking tool...</td>\n",
       "      <td>53.0</td>\n",
       "      <td>287.0</td>\n",
       "      <td>5.415094</td>\n",
       "      <td>4.0</td>\n",
       "    </tr>\n",
       "    <tr>\n",
       "      <th>2</th>\n",
       "      <td>WELLNESS</td>\n",
       "      <td>Crenezumab: Trial Will Gauge Whether Alzheimer...</td>\n",
       "      <td>The clock is ticking for the United States to ...</td>\n",
       "      <td>crenezumab-alzheimers-disease-drug</td>\n",
       "      <td>Crenezumab: Trial Will Gauge Whether Alzheimer...</td>\n",
       "      <td>crenezumab trial gauge whether alzheimers drug...</td>\n",
       "      <td>41.0</td>\n",
       "      <td>241.0</td>\n",
       "      <td>5.878049</td>\n",
       "      <td>2.0</td>\n",
       "    </tr>\n",
       "    <tr>\n",
       "      <th>3</th>\n",
       "      <td>WELLNESS</td>\n",
       "      <td>Oh, What a Difference She Made</td>\n",
       "      <td>If you want to be busy, keep trying to be perf...</td>\n",
       "      <td>meaningful-life</td>\n",
       "      <td>Oh, What a Difference She Made If you want to ...</td>\n",
       "      <td>oh difference made want busy keep trying perfe...</td>\n",
       "      <td>34.0</td>\n",
       "      <td>153.0</td>\n",
       "      <td>4.500000</td>\n",
       "      <td>3.0</td>\n",
       "    </tr>\n",
       "    <tr>\n",
       "      <th>4</th>\n",
       "      <td>WELLNESS</td>\n",
       "      <td>Green Superfoods</td>\n",
       "      <td>First, the bad news: Soda bread, corned beef a...</td>\n",
       "      <td>green-superfoods</td>\n",
       "      <td>Green Superfoods First, the bad news: Soda bre...</td>\n",
       "      <td>green superfoods first bad news soda bread cor...</td>\n",
       "      <td>34.0</td>\n",
       "      <td>159.0</td>\n",
       "      <td>4.676471</td>\n",
       "      <td>3.0</td>\n",
       "    </tr>\n",
       "  </tbody>\n",
       "</table>\n",
       "</div>"
      ],
      "text/plain": [
       "   category                                           headline  \\\n",
       "0  WELLNESS              143 Miles in 35 Days: Lessons Learned   \n",
       "1  WELLNESS       Talking to Yourself: Crazy or Crazy Helpful?   \n",
       "2  WELLNESS  Crenezumab: Trial Will Gauge Whether Alzheimer...   \n",
       "3  WELLNESS                     Oh, What a Difference She Made   \n",
       "4  WELLNESS                                   Green Superfoods   \n",
       "\n",
       "                                   short_description  \\\n",
       "0  Resting is part of training. I've confirmed wh...   \n",
       "1  Think of talking to yourself as a tool to coac...   \n",
       "2  The clock is ticking for the United States to ...   \n",
       "3  If you want to be busy, keep trying to be perf...   \n",
       "4  First, the bad news: Soda bread, corned beef a...   \n",
       "\n",
       "                             keywords  \\\n",
       "0                     running-lessons   \n",
       "1           talking-to-yourself-crazy   \n",
       "2  crenezumab-alzheimers-disease-drug   \n",
       "3                     meaningful-life   \n",
       "4                    green-superfoods   \n",
       "\n",
       "                                   preprocessed_text  \\\n",
       "0  143 Miles in 35 Days: Lessons Learned Resting ...   \n",
       "1  Talking to Yourself: Crazy or Crazy Helpful? T...   \n",
       "2  Crenezumab: Trial Will Gauge Whether Alzheimer...   \n",
       "3  Oh, What a Difference She Made If you want to ...   \n",
       "4  Green Superfoods First, the bad news: Soda bre...   \n",
       "\n",
       "                                        cleaned_text  word_count  char_count  \\\n",
       "0  mile day lesson learned resting part training ...        69.0       334.0   \n",
       "1  talking crazy crazy helpful think talking tool...        53.0       287.0   \n",
       "2  crenezumab trial gauge whether alzheimers drug...        41.0       241.0   \n",
       "3  oh difference made want busy keep trying perfe...        34.0       153.0   \n",
       "4  green superfoods first bad news soda bread cor...        34.0       159.0   \n",
       "\n",
       "   avg_word_length  sentence_count  \n",
       "0         4.840580             5.0  \n",
       "1         5.415094             4.0  \n",
       "2         5.878049             2.0  \n",
       "3         4.500000             3.0  \n",
       "4         4.676471             3.0  "
      ]
     },
     "execution_count": 33,
     "metadata": {},
     "output_type": "execute_result"
    }
   ],
   "source": [
    "df.head()"
   ]
  },
  {
   "cell_type": "code",
   "execution_count": 34,
   "id": "414ea3f9-a6c3-4985-8a2d-e5e05030c863",
   "metadata": {},
   "outputs": [
    {
     "data": {
      "text/html": [
       "<div>\n",
       "<style scoped>\n",
       "    .dataframe tbody tr th:only-of-type {\n",
       "        vertical-align: middle;\n",
       "    }\n",
       "\n",
       "    .dataframe tbody tr th {\n",
       "        vertical-align: top;\n",
       "    }\n",
       "\n",
       "    .dataframe thead th {\n",
       "        text-align: right;\n",
       "    }\n",
       "</style>\n",
       "<table border=\"1\" class=\"dataframe\">\n",
       "  <thead>\n",
       "    <tr style=\"text-align: right;\">\n",
       "      <th></th>\n",
       "      <th>word_count</th>\n",
       "      <th>char_count</th>\n",
       "      <th>avg_word_length</th>\n",
       "      <th>sentence_count</th>\n",
       "    </tr>\n",
       "  </thead>\n",
       "  <tbody>\n",
       "    <tr>\n",
       "      <th>count</th>\n",
       "      <td>50000.000000</td>\n",
       "      <td>50000.000000</td>\n",
       "      <td>50000.000000</td>\n",
       "      <td>50000.000000</td>\n",
       "    </tr>\n",
       "    <tr>\n",
       "      <th>mean</th>\n",
       "      <td>37.872760</td>\n",
       "      <td>220.413560</td>\n",
       "      <td>5.991834</td>\n",
       "      <td>2.358380</td>\n",
       "    </tr>\n",
       "    <tr>\n",
       "      <th>std</th>\n",
       "      <td>15.013213</td>\n",
       "      <td>74.457746</td>\n",
       "      <td>0.897779</td>\n",
       "      <td>1.063619</td>\n",
       "    </tr>\n",
       "    <tr>\n",
       "      <th>min</th>\n",
       "      <td>5.000000</td>\n",
       "      <td>35.000000</td>\n",
       "      <td>3.416667</td>\n",
       "      <td>1.000000</td>\n",
       "    </tr>\n",
       "    <tr>\n",
       "      <th>25%</th>\n",
       "      <td>28.000000</td>\n",
       "      <td>172.000000</td>\n",
       "      <td>5.361111</td>\n",
       "      <td>2.000000</td>\n",
       "    </tr>\n",
       "    <tr>\n",
       "      <th>50%</th>\n",
       "      <td>35.000000</td>\n",
       "      <td>210.000000</td>\n",
       "      <td>5.854956</td>\n",
       "      <td>2.000000</td>\n",
       "    </tr>\n",
       "    <tr>\n",
       "      <th>75%</th>\n",
       "      <td>45.000000</td>\n",
       "      <td>255.000000</td>\n",
       "      <td>6.481481</td>\n",
       "      <td>3.000000</td>\n",
       "    </tr>\n",
       "    <tr>\n",
       "      <th>max</th>\n",
       "      <td>265.000000</td>\n",
       "      <td>1444.000000</td>\n",
       "      <td>12.727273</td>\n",
       "      <td>14.000000</td>\n",
       "    </tr>\n",
       "  </tbody>\n",
       "</table>\n",
       "</div>"
      ],
      "text/plain": [
       "         word_count    char_count  avg_word_length  sentence_count\n",
       "count  50000.000000  50000.000000     50000.000000    50000.000000\n",
       "mean      37.872760    220.413560         5.991834        2.358380\n",
       "std       15.013213     74.457746         0.897779        1.063619\n",
       "min        5.000000     35.000000         3.416667        1.000000\n",
       "25%       28.000000    172.000000         5.361111        2.000000\n",
       "50%       35.000000    210.000000         5.854956        2.000000\n",
       "75%       45.000000    255.000000         6.481481        3.000000\n",
       "max      265.000000   1444.000000        12.727273       14.000000"
      ]
     },
     "execution_count": 34,
     "metadata": {},
     "output_type": "execute_result"
    }
   ],
   "source": [
    "# Having a look at statical summary of dataset (preocessed text)\n",
    "df.describe()"
   ]
  },
  {
   "cell_type": "markdown",
   "id": "34e5a9aa-2534-40cb-8c79-f7f54327576f",
   "metadata": {},
   "source": [
    "## Model Development and Training"
   ]
  },
  {
   "cell_type": "code",
   "execution_count": 36,
   "id": "0beab70d-a9a0-4fab-9eed-066be733d1f5",
   "metadata": {},
   "outputs": [],
   "source": [
    "from sklearn.model_selection import train_test_split"
   ]
  },
  {
   "cell_type": "code",
   "execution_count": 37,
   "id": "c7cdbd11-191b-499a-9b02-6c845db3368e",
   "metadata": {},
   "outputs": [],
   "source": [
    "# splitting the testing and traingset for model training\n",
    "x_train_tfidf,x_test_tfidf,y_train_tfidf,y_test_tfidf = train_test_split(x_train_tfidf,y,test_size = 0.2,random_state=42)"
   ]
  },
  {
   "cell_type": "code",
   "execution_count": 38,
   "id": "518a0175-d437-4b7a-88e0-b4cb2441cbee",
   "metadata": {},
   "outputs": [],
   "source": [
    "# splitting the testing and traingset for model training\n",
    "x_train_bow,x_test_bow,y_train_bow,y_test_bow = train_test_split(x_train_bow,y,test_size = 0.2,random_state=42)"
   ]
  },
  {
   "cell_type": "markdown",
   "id": "fda3b164-bfb0-42ad-bd3a-bc05b1c92043",
   "metadata": {},
   "source": [
    "### Logistic Regression"
   ]
  },
  {
   "cell_type": "code",
   "execution_count": 40,
   "id": "f1add2f1-36cd-46de-af80-ed3efa2b4ea0",
   "metadata": {},
   "outputs": [],
   "source": [
    "from sklearn.linear_model import LogisticRegression\n",
    "from sklearn.metrics import accuracy_score,classification_report,confusion_matrix"
   ]
  },
  {
   "cell_type": "code",
   "execution_count": 41,
   "id": "22ec4e9d-6b98-44e7-8dd1-9aa60ee6eed0",
   "metadata": {},
   "outputs": [
    {
     "name": "stdout",
     "output_type": "stream",
     "text": [
      "The Accuracy Score of Logistic Legression moedel is :79.89\n"
     ]
    }
   ],
   "source": [
    "# Model Development and Training using TF-IDF\n",
    "# Creating the model\n",
    "log_reg = LogisticRegression()\n",
    "#training the model\n",
    "log_reg.fit(x_train_tfidf,y_train_tfidf) \n",
    "#predicting the output for the unseen test data(x_train_tfidf)\n",
    "log_reg_pred_tfidf = log_reg.predict(x_test_tfidf) #predicting the output for the unseen test data(x_train_tfidf)\n",
    "print(f\"The Accuracy Score of Logistic Legression moedel is :{accuracy_score(y_test_tfidf,log_reg_pred_tfidf)*100:.2f}\")"
   ]
  },
  {
   "cell_type": "code",
   "execution_count": 42,
   "id": "f923e254-bff1-47d4-9737-f549e4512161",
   "metadata": {},
   "outputs": [
    {
     "name": "stdout",
     "output_type": "stream",
     "text": [
      "The Accuracy Score of Logistic Legression moedel is :78.59\n"
     ]
    }
   ],
   "source": [
    "# Model Development and Training using Bag of Words\n",
    "\n",
    "#training the model\n",
    "log_reg.fit(x_train_bow,y_train_bow) \n",
    "#predicting the output for the unseen test data(x_train_tfidf)\n",
    "log_reg_pred_bow = log_reg.predict(x_test_bow) \n",
    "print(f\"The Accuracy Score of Logistic Legression moedel is :{accuracy_score(y_test_tfidf,log_reg_pred_bow)*100:.2f}\")"
   ]
  },
  {
   "cell_type": "markdown",
   "id": "3e41a1e6-ca73-4394-9a89-f4fce818c0aa",
   "metadata": {},
   "source": [
    "### Naive Bayes"
   ]
  },
  {
   "cell_type": "code",
   "execution_count": 44,
   "id": "ed1595a4-44c1-402a-8b04-b3c6800b699d",
   "metadata": {},
   "outputs": [],
   "source": [
    "from sklearn.naive_bayes import MultinomialNB\n",
    "from sklearn.naive_bayes import BernoulliNB"
   ]
  },
  {
   "cell_type": "code",
   "execution_count": 45,
   "id": "2bd4ae60-25f8-4949-802f-f8a6828cc3fe",
   "metadata": {},
   "outputs": [
    {
     "name": "stdout",
     "output_type": "stream",
     "text": [
      "The Accuracy Score of Multinomial moedel Naive Bayes is :78.11\n"
     ]
    }
   ],
   "source": [
    "# Model Development and Training using TF-IDF\n",
    "# Creating the model\n",
    "nb = MultinomialNB()\n",
    "#training the model\n",
    "nb.fit(x_train_tfidf,y_train_tfidf)\n",
    "#predicting the output for the unseen test data(x_train_tfidf)\n",
    "nb_pred = nb.predict(x_test_tfidf)\n",
    "print(f\"The Accuracy Score of Multinomial moedel Naive Bayes is :{accuracy_score(y_test_tfidf,nb_pred)*100:.2f}\")"
   ]
  },
  {
   "cell_type": "code",
   "execution_count": 46,
   "id": "2fcacccf-43d1-413c-b757-d18f5d4538e8",
   "metadata": {},
   "outputs": [
    {
     "name": "stdout",
     "output_type": "stream",
     "text": [
      "The Accuracy Score of Multinomial Naive Bayes moedel is :78.22\n"
     ]
    }
   ],
   "source": [
    "# Model Development and Training using Bag of Words\n",
    "#training the model\n",
    "nb.fit(x_train_bow,y_train_bow)\n",
    "#predicting the output for the unseen test data(x_train_bow)\n",
    "nb_pred_bow = nb.predict(x_test_bow)\n",
    "print(f\"The Accuracy Score of Multinomial Naive Bayes moedel is :{accuracy_score(y_test_bow,nb_pred_bow)*100:.2f}\")"
   ]
  },
  {
   "cell_type": "markdown",
   "id": "715ecc84-a6f1-4f39-bc75-06b4beb87068",
   "metadata": {},
   "source": [
    "#### Bernoli Naive Bayes"
   ]
  },
  {
   "cell_type": "code",
   "execution_count": 48,
   "id": "d415f8f9-004b-496c-a04f-705c99b45a93",
   "metadata": {},
   "outputs": [
    {
     "name": "stdout",
     "output_type": "stream",
     "text": [
      "The Accuracy Score of Bernoli Naive Bayes moedel is :78.14\n"
     ]
    }
   ],
   "source": [
    "# Model Development and Training using TF-IDF\n",
    "# Creating the model\n",
    "bn = BernoulliNB()\n",
    "#training the model\n",
    "bn.fit(x_train_tfidf,y_train_tfidf)\n",
    "#predicting the output for the unseen test data(x_train_tfidf)\n",
    "bn_pred_tfidf = bn.predict(x_test_tfidf)\n",
    "print(f\"The Accuracy Score of Bernoli Naive Bayes moedel is :{accuracy_score(y_test_tfidf,bn_pred_tfidf)*100:.2f}\")"
   ]
  },
  {
   "cell_type": "code",
   "execution_count": 49,
   "id": "307d08ec-e4a2-4a1e-9c52-476adcdd978a",
   "metadata": {},
   "outputs": [
    {
     "name": "stdout",
     "output_type": "stream",
     "text": [
      "The Accuracy Score of Bernoli Naive Bayes moedel is :78.14\n"
     ]
    }
   ],
   "source": [
    "# Model Development and Training using Bag of Words\n",
    "#training the model\n",
    "bn.fit(x_train_bow,y_train_bow)\n",
    "#predicting the output for the unseen test data(x_train_bow)\n",
    "bn_pred_bow = bn.predict(x_test_bow)\n",
    "print(f\"The Accuracy Score of Bernoli Naive Bayes moedel is :{accuracy_score(y_test_bow,bn_pred_bow)*100:.2f}\")"
   ]
  },
  {
   "cell_type": "markdown",
   "id": "023438fd-07ed-4dbd-9146-5cc0f9ef611f",
   "metadata": {},
   "source": [
    "### Support Vector Machine"
   ]
  },
  {
   "cell_type": "code",
   "execution_count": 51,
   "id": "20a5c6ec-9f43-4ef6-9356-0cd3538d5087",
   "metadata": {},
   "outputs": [],
   "source": [
    "from sklearn.svm import LinearSVC"
   ]
  },
  {
   "cell_type": "code",
   "execution_count": 52,
   "id": "83c5f0a8-0ecf-4b4c-bbbd-a794d600e369",
   "metadata": {},
   "outputs": [
    {
     "name": "stdout",
     "output_type": "stream",
     "text": [
      "The Accuracy Score of Support Vector Machine moedel is :79.17\n"
     ]
    }
   ],
   "source": [
    "# Model Development and Training using TF-IDF\n",
    "# Creating the model\n",
    "svc = LinearSVC(max_iter=5000)\n",
    "#training the model\n",
    "svc.fit(x_train_tfidf,y_train_tfidf)\n",
    "#predicting the output for the unseen test data(x_train_tfidf)\n",
    "svc_pred_tfidf = svc.predict(x_test_tfidf)\n",
    "print(f\"The Accuracy Score of Support Vector Machine moedel is :{accuracy_score(y_test_tfidf,svc_pred_tfidf)*100:.2f}\")"
   ]
  },
  {
   "cell_type": "code",
   "execution_count": 53,
   "id": "2bd1d3b0-e1de-4193-9077-5dca5727f0f7",
   "metadata": {},
   "outputs": [
    {
     "name": "stdout",
     "output_type": "stream",
     "text": [
      "The Accuracy Score of Support Vector Machine moedel is :75.62\n"
     ]
    }
   ],
   "source": [
    "# Model Development and Training using Bag of Words\n",
    "#training the model\n",
    "svc.fit(x_train_bow,y_train_bow)\n",
    "#predicting the output for the unseen test data(x_train_bow)\n",
    "svc_pred_bow = svc.predict(x_test_bow)\n",
    "print(f\"The Accuracy Score of Support Vector Machine moedel is :{accuracy_score(y_test_bow,svc_pred_bow)*100:.2f}\")"
   ]
  },
  {
   "cell_type": "markdown",
   "id": "85beb86e-34be-41c6-87c2-f1ec4c92506f",
   "metadata": {},
   "source": [
    "**conslusion:** After training and testing the various algorithm we  found that Logistic Regression is giving us higher accuray 80%.So we will proceed with this model for Creation our Model.<br>We try to implement the Hyper parameter tunning to find optimum values for our Model."
   ]
  },
  {
   "cell_type": "markdown",
   "id": "9ecb21f3-c311-4000-94a7-eefc0482ad2d",
   "metadata": {},
   "source": [
    "### Hyperparameter Tunning"
   ]
  },
  {
   "cell_type": "code",
   "execution_count": 56,
   "id": "2d46c0f3-8388-43b9-b336-ab58a4634b32",
   "metadata": {},
   "outputs": [],
   "source": [
    "from sklearn.model_selection import RandomizedSearchCV"
   ]
  },
  {
   "cell_type": "code",
   "execution_count": 57,
   "id": "764c98fb-e29c-4b91-8a79-3223ae85ee40",
   "metadata": {},
   "outputs": [
    {
     "name": "stdout",
     "output_type": "stream",
     "text": [
      "The Logistic Regression Best Parameters:{'solver': 'liblinear', 'max_iter': 100, 'C': 1}\n",
      "The Logistic Regression Best Scores:79.50\n"
     ]
    }
   ],
   "source": [
    "log_reg_param_grid={\n",
    "    \"C\" : [0.01,0.1,1,10,100], #Regularization Parameter\n",
    "    \"solver\" : ['liblinear'], # solver to use\n",
    "    \"max_iter\" : [100,200,300,400,500] #maximun number of iterations\n",
    "}\n",
    "\n",
    "log_reg_grid_search= RandomizedSearchCV(LogisticRegression(),log_reg_param_grid,cv=10,scoring=\"accuracy\")\n",
    "log_reg_grid_search.fit(x_train_tfidf,y_train_tfidf)\n",
    "log_reg_params = log_reg_grid_search.best_params_\n",
    "log_reg_accuracy=log_reg_grid_search.best_score_\n",
    "print(f\"The Logistic Regression Best Parameters:{log_reg_params}\")\n",
    "print(f\"The Logistic Regression Best Scores:{log_reg_accuracy*100:.2f}\")\n"
   ]
  },
  {
   "cell_type": "code",
   "execution_count": 58,
   "id": "4501070d-5a37-45e2-accf-76a96ab7d8ab",
   "metadata": {},
   "outputs": [
    {
     "data": {
      "text/plain": [
       "0.7986"
      ]
     },
     "execution_count": 58,
     "metadata": {},
     "output_type": "execute_result"
    }
   ],
   "source": [
    "best_log_reg = log_reg_grid_search.best_estimator_\n",
    "log_reg_predict_tfidf = best_log_reg.predict(x_test_tfidf)\n",
    "best_log_reg_accuracy = accuracy_score(y_test_tfidf,log_reg_predict_tfidf)\n",
    "best_log_reg_accuracy"
   ]
  },
  {
   "cell_type": "code",
   "execution_count": 59,
   "id": "30a6d94c-8991-4d28-9216-43b9172987d1",
   "metadata": {},
   "outputs": [
    {
     "name": "stdout",
     "output_type": "stream",
     "text": [
      "The Classification Report of Logistic Regression Model:\n",
      "                 precision    recall  f1-score   support\n",
      "\n",
      "      BUSINESS       0.78      0.73      0.76      1017\n",
      " ENTERTAINMENT       0.77      0.77      0.77       988\n",
      "  FOOD & DRINK       0.82      0.85      0.84       985\n",
      "     PARENTING       0.76      0.78      0.77      1006\n",
      "      POLITICS       0.74      0.79      0.76       972\n",
      "        SPORTS       0.89      0.87      0.88      1022\n",
      "STYLE & BEAUTY       0.85      0.85      0.85       983\n",
      "        TRAVEL       0.80      0.83      0.82       973\n",
      "      WELLNESS       0.76      0.73      0.74      1049\n",
      "    WORLD NEWS       0.81      0.79      0.80      1005\n",
      "\n",
      "      accuracy                           0.80     10000\n",
      "     macro avg       0.80      0.80      0.80     10000\n",
      "  weighted avg       0.80      0.80      0.80     10000\n",
      "\n"
     ]
    }
   ],
   "source": [
    "# Classification Report\n",
    "print(\"The Classification Report of Logistic Regression Model:\\n\",classification_report(log_reg_pred_tfidf,y_test_tfidf))"
   ]
  },
  {
   "cell_type": "code",
   "execution_count": null,
   "id": "db2ca7b3-1849-4ebd-9fac-33e76af16d77",
   "metadata": {},
   "outputs": [],
   "source": [
    "Our Hypertuned Logistic Regression Model's Overall Accuracy = 80%<br>\n",
    "\n",
    "The model correctly classifies 88% of reviews (both positive & negative).<br>\n",
    "This is good performance for a basic logistic regression model.<br>\n",
    "    \n",
    "F1-Score (Balanced Performance Measure)<br>\n",
    "F1-score for both classes ~88-89% → Indicates a well-balanced model.<br>\n",
    "No major bias towards positive or negative reviews.<br>"
   ]
  },
  {
   "cell_type": "code",
   "execution_count": 60,
   "id": "bd0a0b24-47ef-4ba8-94df-1356e11d7615",
   "metadata": {},
   "outputs": [
    {
     "data": {
      "image/png": "[encoded data removed]",
      "text/plain": [
       "<Figure size 640x480 with 2 Axes>"
      ]
     },
     "metadata": {},
     "output_type": "display_data"
    }
   ],
   "source": [
    "# Creating and visualising the Confusion Matrix\n",
    "conf_matrix = confusion_matrix(log_reg_pred_tfidf,y_test_tfidf)\n",
    "\n",
    "sns.heatmap(conf_matrix, annot=True, fmt='d', cmap=\"coolwarm\")\n",
    "plt.title(\"Confusion Matrix of Logistic Regression\")\n",
    "plt.xlabel(\"Predicted Labels\")\n",
    "plt.ylabel(\"Actual Labels\")\n",
    "plt.show()\n"
   ]
  },
  {
   "cell_type": "markdown",
   "id": "a46ed9d7-9a52-413b-b6fd-defd234f82a4",
   "metadata": {},
   "source": [
    "# Predicting  Category for New NEWS articles."
   ]
  },
  {
   "cell_type": "code",
   "execution_count": 62,
   "id": "6f39be75-819f-45ef-8f72-d256cbb168e3",
   "metadata": {},
   "outputs": [],
   "source": [
    "def predict_news_category():\n",
    "    user_headline = input(\"Enter News Headline: \")\n",
    "    user_description = input(\"Enter News Description: \")\n",
    "    user_keywords = input(\"Enter Keywords (comma-separated): \")\n",
    "\n",
    "    # Combine all text inputs\n",
    "    combined_text = user_headline + \" \" + user_description + \" \" + user_keywords\n",
    "    preprocessed_text = preprocessing(combined_text)  # Clean text by using fuction we creeated earlier to clean our data (preprocessing)\n",
    "\n",
    "    # Convert to TF-IDF features\n",
    "    tfidf_user = vectorizer.transform([preprocessed_text])\n",
    "\n",
    "    # Predict category\n",
    "    predicted_label = svc.predict(tfidf_user)[0]\n",
    "\n",
    "\n",
    "    print(f\"\\n Predicted Category: {predicted_label}\")"
   ]
  },
  {
   "cell_type": "code",
   "execution_count": 63,
   "id": "4d29516b-4d31-4e5b-98c3-72f0fa98c7bb",
   "metadata": {},
   "outputs": [
    {
     "name": "stdin",
     "output_type": "stream",
     "text": [
      "Enter News Headline:  Stock Markets Rally After Positive Economic Data\n",
      "Enter News Description:  Global stock markets saw a sharp rise today following the release of encouraging economic growth figures from major economies.\n",
      "Enter Keywords (comma-separated):  stock market\", \"economy\", \"finance\", \"growth\"\n"
     ]
    },
    {
     "name": "stdout",
     "output_type": "stream",
     "text": [
      "\n",
      " Predicted Category: BUSINESS\n"
     ]
    }
   ],
   "source": [
    "# Run prediction function\n",
    "predict_news_category()"
   ]
  },
  {
   "cell_type": "code",
   "execution_count": 111,
   "id": "43bbc194-7ef9-4983-a3d8-682b066f009d",
   "metadata": {},
   "outputs": [
    {
     "name": "stdin",
     "output_type": "stream",
     "text": [
      "Enter News Headline:  Scientists Discover New Exoplanet in Habitable Zone\n",
      "Enter News Description:  Astronomers have detected a potentially habitable exoplanet orbiting a nearby star, raising hopes for future space exploration.\n",
      "Enter Keywords (comma-separated):  space\", \"exoplanet\", \"astronomy\", \"NASA\n"
     ]
    },
    {
     "name": "stdout",
     "output_type": "stream",
     "text": [
      "\n",
      " Predicted Category: WORLD NEWS\n"
     ]
    }
   ],
   "source": [
    "# Run prediction function\n",
    "predict_news_category()"
   ]
  },
  {
   "cell_type": "code",
   "execution_count": 113,
   "id": "763663de-134b-4070-af7d-f923118463e8",
   "metadata": {},
   "outputs": [
    {
     "name": "stdin",
     "output_type": "stream",
     "text": [
      "Enter News Headline:  Health Experts Warn of New Virus Outbreak\n",
      "Enter News Description:  Medical authorities have issued alerts regarding the emergence of a new viral infection that is spreading rapidly in several regions.\n",
      "Enter Keywords (comma-separated):  \"health\", \"virus\", \"pandemic\", \"medical\"\n"
     ]
    },
    {
     "name": "stdout",
     "output_type": "stream",
     "text": [
      "\n",
      " Predicted Category: WELLNESS\n"
     ]
    }
   ],
   "source": [
    "# Run prediction function\n",
    "predict_news_category()"
   ]
  },
  {
   "cell_type": "code",
   "execution_count": null,
   "id": "10987063-f02e-4a95-97e7-7a7a866c68f5",
   "metadata": {},
   "outputs": [],
   "source": []
  }
 ],
 "metadata": {
  "kernelspec": {
   "display_name": "Python 3 (ipykernel)",
   "language": "python",
   "name": "python3"
  },
  "language_info": {
   "codemirror_mode": {
    "name": "ipython",
    "version": 3
   },
   "file_extension": ".py",
   "mimetype": "text/x-python",
   "name": "python",
   "nbconvert_exporter": "python",
   "pygments_lexer": "ipython3",
   "version": "3.12.7"
  }
 },
 "nbformat": 4,
 "nbformat_minor": 5
}
