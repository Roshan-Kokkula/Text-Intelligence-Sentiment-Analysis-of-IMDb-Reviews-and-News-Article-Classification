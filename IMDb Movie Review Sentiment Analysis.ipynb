{
 "cells": [
  {
   "cell_type": "markdown",
   "id": "0087da98-bc60-4b9a-a98c-3f1502879113",
   "metadata": {},
   "source": [
    "# IMDb Movie Review Sentiment Analysis"
   ]
  },
  {
   "cell_type": "markdown",
   "id": "209e1bc8-015a-41e8-b242-7c8b8474afd5",
   "metadata": {},
   "source": [
    "### Problem Statement"
   ]
  },
  {
   "cell_type": "markdown",
   "id": "98e13731-49f5-4b83-bfa1-a76a6282a8d9",
   "metadata": {},
   "source": [
    "The primary objective of this project is to build a machine learning classification model that\n",
    "can predict the sentiment of IMDb movie reviews. The dataset contains a collection of movie\n",
    "reviews, and each review is labeled as either positive or negative."
   ]
  },
  {
   "cell_type": "markdown",
   "id": "f065040d-8b85-423e-8f53-f5683ad975b6",
   "metadata": {},
   "source": [
    "### Dataset Information"
   ]
  },
  {
   "cell_type": "markdown",
   "id": "d056084d-8f1a-4ac8-a815-3110c06d7a70",
   "metadata": {},
   "source": [
    "The IMDb dataset contains a large number of movie reviews, each labeled with either a\n",
    "positive or negative sentiment.<br>\n",
    "● **Text of the review**  : The actual review provided by the user.<br>\n",
    "● **Sentiment label**     : The sentiment of the review, either \"positive\" or \"negative.\""
   ]
  },
  {
   "cell_type": "code",
   "execution_count": 6,
   "id": "be56bb05-73db-430d-941a-282da30324a6",
   "metadata": {},
   "outputs": [],
   "source": [
    "# Importing necessary Libraries\n",
    "import pandas as pd\n",
    "import numpy as np\n",
    "import seaborn as sns\n",
    "import matplotlib.pyplot as plt"
   ]
  },
  {
   "cell_type": "code",
   "execution_count": 7,
   "id": "f6196c4a-14b5-49e1-a368-76d4a48675ed",
   "metadata": {},
   "outputs": [
    {
     "data": {
      "text/html": [
       "<div>\n",
       "<style scoped>\n",
       "    .dataframe tbody tr th:only-of-type {\n",
       "        vertical-align: middle;\n",
       "    }\n",
       "\n",
       "    .dataframe tbody tr th {\n",
       "        vertical-align: top;\n",
       "    }\n",
       "\n",
       "    .dataframe thead th {\n",
       "        text-align: right;\n",
       "    }\n",
       "</style>\n",
       "<table border=\"1\" class=\"dataframe\">\n",
       "  <thead>\n",
       "    <tr style=\"text-align: right;\">\n",
       "      <th></th>\n",
       "      <th>review</th>\n",
       "      <th>sentiment</th>\n",
       "    </tr>\n",
       "  </thead>\n",
       "  <tbody>\n",
       "    <tr>\n",
       "      <th>0</th>\n",
       "      <td>One of the other reviewers has mentioned that ...</td>\n",
       "      <td>positive</td>\n",
       "    </tr>\n",
       "    <tr>\n",
       "      <th>1</th>\n",
       "      <td>A wonderful little production. &lt;br /&gt;&lt;br /&gt;The...</td>\n",
       "      <td>positive</td>\n",
       "    </tr>\n",
       "    <tr>\n",
       "      <th>2</th>\n",
       "      <td>I thought this was a wonderful way to spend ti...</td>\n",
       "      <td>positive</td>\n",
       "    </tr>\n",
       "    <tr>\n",
       "      <th>3</th>\n",
       "      <td>Basically there's a family where a little boy ...</td>\n",
       "      <td>negative</td>\n",
       "    </tr>\n",
       "    <tr>\n",
       "      <th>4</th>\n",
       "      <td>Petter Mattei's \"Love in the Time of Money\" is...</td>\n",
       "      <td>positive</td>\n",
       "    </tr>\n",
       "  </tbody>\n",
       "</table>\n",
       "</div>"
      ],
      "text/plain": [
       "                                              review sentiment\n",
       "0  One of the other reviewers has mentioned that ...  positive\n",
       "1  A wonderful little production. <br /><br />The...  positive\n",
       "2  I thought this was a wonderful way to spend ti...  positive\n",
       "3  Basically there's a family where a little boy ...  negative\n",
       "4  Petter Mattei's \"Love in the Time of Money\" is...  positive"
      ]
     },
     "execution_count": 7,
     "metadata": {},
     "output_type": "execute_result"
    }
   ],
   "source": [
    "# Loading the Dataset and having a view at first few rows \n",
    "df = pd.read_csv(\"Imdb - data_imdb.csv\")\n",
    "df.head()"
   ]
  },
  {
   "cell_type": "code",
   "execution_count": 8,
   "id": "5569721b-e7b1-4891-969a-f55f99409867",
   "metadata": {},
   "outputs": [
    {
     "data": {
      "text/plain": [
       "(50000, 2)"
      ]
     },
     "execution_count": 8,
     "metadata": {},
     "output_type": "execute_result"
    }
   ],
   "source": [
    "# Having a view at total rows and columsn available in dataset\n",
    "df.shape"
   ]
  },
  {
   "cell_type": "code",
   "execution_count": 9,
   "id": "f4472a57-be3d-48a5-8e6c-6ad7c5689a87",
   "metadata": {},
   "outputs": [
    {
     "name": "stdout",
     "output_type": "stream",
     "text": [
      "<class 'pandas.core.frame.DataFrame'>\n",
      "RangeIndex: 50000 entries, 0 to 49999\n",
      "Data columns (total 2 columns):\n",
      " #   Column     Non-Null Count  Dtype \n",
      "---  ------     --------------  ----- \n",
      " 0   review     50000 non-null  object\n",
      " 1   sentiment  50000 non-null  object\n",
      "dtypes: object(2)\n",
      "memory usage: 781.4+ KB\n"
     ]
    }
   ],
   "source": [
    "df.info()"
   ]
  },
  {
   "cell_type": "markdown",
   "id": "e57af528-43f2-462e-b1e7-1a01df7cc51e",
   "metadata": {},
   "source": [
    "From above info we can see that there are 2 columns consisting of 50,000 rows and looks like there no significant  null values in the dataset.<br>Let's confrom with isnull.sum function"
   ]
  },
  {
   "cell_type": "code",
   "execution_count": 11,
   "id": "fe8dfbbe-0b7d-4c3c-b3e8-a9ccb958c26d",
   "metadata": {},
   "outputs": [
    {
     "data": {
      "text/plain": [
       "review       0\n",
       "sentiment    0\n",
       "dtype: int64"
      ]
     },
     "execution_count": 11,
     "metadata": {},
     "output_type": "execute_result"
    }
   ],
   "source": [
    "# Checking for null values in the dataset\n",
    "df.isnull().sum()"
   ]
  },
  {
   "cell_type": "markdown",
   "id": "6543bc0e-a934-46ad-bba4-cb7c33d8164c",
   "metadata": {},
   "source": [
    "Here we can conform that there are no significant null values in the dataset."
   ]
  },
  {
   "cell_type": "code",
   "execution_count": 13,
   "id": "16c1f1ac-16b8-4cbd-b474-6e4fd94e06eb",
   "metadata": {},
   "outputs": [
    {
     "data": {
      "text/plain": [
       "Index(['review', 'sentiment'], dtype='object')"
      ]
     },
     "execution_count": 13,
     "metadata": {},
     "output_type": "execute_result"
    }
   ],
   "source": [
    "# Checking for columns available in dataset\n",
    "df.columns"
   ]
  },
  {
   "cell_type": "code",
   "execution_count": 14,
   "id": "b3968a67-6ca8-4d73-8df3-9578ffdf3b4d",
   "metadata": {},
   "outputs": [
    {
     "data": {
      "text/plain": [
       "sentiment\n",
       "positive    25000\n",
       "negative    25000\n",
       "Name: count, dtype: int64"
      ]
     },
     "execution_count": 14,
     "metadata": {},
     "output_type": "execute_result"
    }
   ],
   "source": [
    "# Checking for values distribution of Sentiment\n",
    "df['sentiment'].value_counts()"
   ]
  },
  {
   "cell_type": "markdown",
   "id": "dba18560-6416-4f11-aae1-873a78f7376f",
   "metadata": {},
   "source": [
    "We can see that the distribution of both Positive and negative are equally distributed in the dataset we can say that this is a balanced dataset."
   ]
  },
  {
   "cell_type": "code",
   "execution_count": 16,
   "id": "4adac7f4-3780-4d55-9738-7f79b8e99b6b",
   "metadata": {},
   "outputs": [
    {
     "data": {
      "image/png": "[encoded data removed]",
      "text/plain": [
       "<Figure size 640x480 with 1 Axes>"
      ]
     },
     "metadata": {},
     "output_type": "display_data"
    }
   ],
   "source": [
    "# Distibution of Sentiment\n",
    "sns.countplot(x=df['sentiment'])\n",
    "plt.title(\"Distibution of Sentiment\")\n",
    "plt.xlabel(\"Sentiment\")\n",
    "plt.ylabel(\"Total Sentiments\")\n",
    "plt.show()"
   ]
  },
  {
   "cell_type": "markdown",
   "id": "84e477bb-f3bd-4e36-83bb-4a53237196e7",
   "metadata": {},
   "source": [
    "###  Performing data Cleaning and Text Preprocessing"
   ]
  },
  {
   "cell_type": "code",
   "execution_count": 18,
   "id": "c2bbbeb7-eaaf-4469-92f0-eea5cc5adc0d",
   "metadata": {},
   "outputs": [
    {
     "name": "stderr",
     "output_type": "stream",
     "text": [
      "[nltk_data] Downloading package punkt_tab to\n",
      "[nltk_data]     C:\\Users\\DELL\\AppData\\Roaming\\nltk_data...\n",
      "[nltk_data]   Package punkt_tab is already up-to-date!\n",
      "[nltk_data] Downloading package stopwords to\n",
      "[nltk_data]     C:\\Users\\DELL\\AppData\\Roaming\\nltk_data...\n",
      "[nltk_data]   Package stopwords is already up-to-date!\n"
     ]
    },
    {
     "data": {
      "text/plain": [
       "True"
      ]
     },
     "execution_count": 18,
     "metadata": {},
     "output_type": "execute_result"
    }
   ],
   "source": [
    "# Importing necessary libraries for text preprocessing.\n",
    "import re\n",
    "import nltk\n",
    "from nltk.corpus import stopwords\n",
    "from nltk.tokenize import word_tokenize,sent_tokenize\n",
    "\n",
    "nltk.download(\"punkt_tab\")\n",
    "nltk.download(\"stopwords\")"
   ]
  },
  {
   "cell_type": "code",
   "execution_count": 19,
   "id": "d99101bb-6afc-442c-8dc5-22be69861228",
   "metadata": {},
   "outputs": [],
   "source": [
    "## Text Preprocessing\n",
    "from nltk.stem import WordNetLemmatizer\n",
    "lemmatizer = WordNetLemmatizer()\n",
    "stop_words = set(stopwords.words(\"english\"))\n",
    "\n",
    "\n",
    "def preprocessing(text):\n",
    "    text = text.lower() #converting to lower case\n",
    "    text = re.sub(r'[^a-z\\s]',\"\",text) #Removig the special characters\n",
    "    tokens = word_tokenize(text) # tokenzing the words\n",
    "    tokens = [word for word in tokens if word not in stop_words] #removing the stop words\n",
    "    tokens = [lemmatizer.lemmatize(word) for word in tokens]\n",
    "    return ' '.join(tokens) \n",
    "    return text"
   ]
  },
  {
   "cell_type": "code",
   "execution_count": 20,
   "id": "8f1f1e8d-e0d0-40c1-b558-1918db2d89ac",
   "metadata": {},
   "outputs": [
    {
     "data": {
      "text/html": [
       "<div>\n",
       "<style scoped>\n",
       "    .dataframe tbody tr th:only-of-type {\n",
       "        vertical-align: middle;\n",
       "    }\n",
       "\n",
       "    .dataframe tbody tr th {\n",
       "        vertical-align: top;\n",
       "    }\n",
       "\n",
       "    .dataframe thead th {\n",
       "        text-align: right;\n",
       "    }\n",
       "</style>\n",
       "<table border=\"1\" class=\"dataframe\">\n",
       "  <thead>\n",
       "    <tr style=\"text-align: right;\">\n",
       "      <th></th>\n",
       "      <th>review</th>\n",
       "      <th>sentiment</th>\n",
       "      <th>preprocessed_review</th>\n",
       "    </tr>\n",
       "  </thead>\n",
       "  <tbody>\n",
       "    <tr>\n",
       "      <th>0</th>\n",
       "      <td>One of the other reviewers has mentioned that ...</td>\n",
       "      <td>positive</td>\n",
       "      <td>one reviewer mentioned watching oz episode you...</td>\n",
       "    </tr>\n",
       "    <tr>\n",
       "      <th>1</th>\n",
       "      <td>A wonderful little production. &lt;br /&gt;&lt;br /&gt;The...</td>\n",
       "      <td>positive</td>\n",
       "      <td>wonderful little production br br filming tech...</td>\n",
       "    </tr>\n",
       "    <tr>\n",
       "      <th>2</th>\n",
       "      <td>I thought this was a wonderful way to spend ti...</td>\n",
       "      <td>positive</td>\n",
       "      <td>thought wonderful way spend time hot summer we...</td>\n",
       "    </tr>\n",
       "    <tr>\n",
       "      <th>3</th>\n",
       "      <td>Basically there's a family where a little boy ...</td>\n",
       "      <td>negative</td>\n",
       "      <td>basically there family little boy jake think t...</td>\n",
       "    </tr>\n",
       "    <tr>\n",
       "      <th>4</th>\n",
       "      <td>Petter Mattei's \"Love in the Time of Money\" is...</td>\n",
       "      <td>positive</td>\n",
       "      <td>petter matteis love time money visually stunni...</td>\n",
       "    </tr>\n",
       "  </tbody>\n",
       "</table>\n",
       "</div>"
      ],
      "text/plain": [
       "                                              review sentiment  \\\n",
       "0  One of the other reviewers has mentioned that ...  positive   \n",
       "1  A wonderful little production. <br /><br />The...  positive   \n",
       "2  I thought this was a wonderful way to spend ti...  positive   \n",
       "3  Basically there's a family where a little boy ...  negative   \n",
       "4  Petter Mattei's \"Love in the Time of Money\" is...  positive   \n",
       "\n",
       "                                 preprocessed_review  \n",
       "0  one reviewer mentioned watching oz episode you...  \n",
       "1  wonderful little production br br filming tech...  \n",
       "2  thought wonderful way spend time hot summer we...  \n",
       "3  basically there family little boy jake think t...  \n",
       "4  petter matteis love time money visually stunni...  "
      ]
     },
     "execution_count": 20,
     "metadata": {},
     "output_type": "execute_result"
    }
   ],
   "source": [
    "df['preprocessed_review']=df['review'].apply(preprocessing)\n",
    "df.head()"
   ]
  },
  {
   "cell_type": "code",
   "execution_count": 21,
   "id": "59470958-d478-4f20-86ce-b3a47c5340fc",
   "metadata": {},
   "outputs": [],
   "source": [
    "# Importing necessary libraries for text Vectorisation(Transformation to text values to numerical values). \n",
    "from sklearn.feature_extraction.text import TfidfVectorizer\n",
    "from sklearn.feature_extraction.text import CountVectorizer"
   ]
  },
  {
   "cell_type": "code",
   "execution_count": 22,
   "id": "c7816abd-210f-438c-a112-3c94c5ab858e",
   "metadata": {},
   "outputs": [],
   "source": [
    "# Assigning the Features and Target variables for Training the model\n",
    "x = df[\"preprocessed_review\"]\n",
    "y = df[\"sentiment\"]"
   ]
  },
  {
   "cell_type": "code",
   "execution_count": 23,
   "id": "e7ecb844-2906-4d2b-a0a2-43e09ed1ba12",
   "metadata": {},
   "outputs": [],
   "source": [
    "# Converting the textual data to numerical data for Training of the model using (Tfidf Vectorizer).\n",
    "vectorizer = TfidfVectorizer(max_features=5000)\n",
    "x_tfidf = vectorizer.fit_transform(x)"
   ]
  },
  {
   "cell_type": "code",
   "execution_count": 24,
   "id": "ea9696eb-1b78-4c47-9725-0f2db520b1e8",
   "metadata": {},
   "outputs": [],
   "source": [
    "# Converting the textual data to numerical data for Training of the model using Count Vectorizer(Bag of Words).\n",
    "c_vectorizer = CountVectorizer(max_features=5000)\n",
    "x_bow = c_vectorizer.fit_transform(x)"
   ]
  },
  {
   "cell_type": "markdown",
   "id": "01350a83-a4b3-4b04-ac0e-14764daff63b",
   "metadata": {},
   "source": [
    "#### Textual features"
   ]
  },
  {
   "cell_type": "code",
   "execution_count": 26,
   "id": "b1f57e8f-3f6d-4946-ad7e-3d3e6c2869d6",
   "metadata": {},
   "outputs": [],
   "source": [
    "# Creating a funtion to calculate the word count,character_count,average word lengths,sentence count per row\n",
    "def extract_text_features(text):\n",
    "    words = word_tokenize(text)  # Tokenize words\n",
    "    sentences = sent_tokenize(text)  # Tokenize sentences\n",
    "    \n",
    "    word_count = len(words)  # Total words\n",
    "    char_count = len(text)  # Total characters\n",
    "    avg_word_length = char_count / word_count if word_count > 0 else 0  # Avg word length\n",
    "    sentence_count = len(sentences)  # Total sentences\n",
    "    \n",
    "    return pd.Series([word_count, char_count, avg_word_length, sentence_count])\n",
    "\n",
    "# Applying feature extraction to all rows and adding columns to dataset.\n",
    "df[[\"word_count\", \"char_count\", \"avg_word_length\", \"sentence_count\"]] = df[\"review\"].apply(extract_text_features)\n"
   ]
  },
  {
   "cell_type": "code",
   "execution_count": 27,
   "id": "117c16c8-d67e-4a1d-8337-a03e55a57b3e",
   "metadata": {},
   "outputs": [
    {
     "data": {
      "text/html": [
       "<div>\n",
       "<style scoped>\n",
       "    .dataframe tbody tr th:only-of-type {\n",
       "        vertical-align: middle;\n",
       "    }\n",
       "\n",
       "    .dataframe tbody tr th {\n",
       "        vertical-align: top;\n",
       "    }\n",
       "\n",
       "    .dataframe thead th {\n",
       "        text-align: right;\n",
       "    }\n",
       "</style>\n",
       "<table border=\"1\" class=\"dataframe\">\n",
       "  <thead>\n",
       "    <tr style=\"text-align: right;\">\n",
       "      <th></th>\n",
       "      <th>review</th>\n",
       "      <th>sentiment</th>\n",
       "      <th>preprocessed_review</th>\n",
       "      <th>word_count</th>\n",
       "      <th>char_count</th>\n",
       "      <th>avg_word_length</th>\n",
       "      <th>sentence_count</th>\n",
       "    </tr>\n",
       "  </thead>\n",
       "  <tbody>\n",
       "    <tr>\n",
       "      <th>0</th>\n",
       "      <td>One of the other reviewers has mentioned that ...</td>\n",
       "      <td>positive</td>\n",
       "      <td>one reviewer mentioned watching oz episode you...</td>\n",
       "      <td>380.0</td>\n",
       "      <td>1761.0</td>\n",
       "      <td>4.634211</td>\n",
       "      <td>10.0</td>\n",
       "    </tr>\n",
       "    <tr>\n",
       "      <th>1</th>\n",
       "      <td>A wonderful little production. &lt;br /&gt;&lt;br /&gt;The...</td>\n",
       "      <td>positive</td>\n",
       "      <td>wonderful little production br br filming tech...</td>\n",
       "      <td>201.0</td>\n",
       "      <td>998.0</td>\n",
       "      <td>4.965174</td>\n",
       "      <td>7.0</td>\n",
       "    </tr>\n",
       "    <tr>\n",
       "      <th>2</th>\n",
       "      <td>I thought this was a wonderful way to spend ti...</td>\n",
       "      <td>positive</td>\n",
       "      <td>thought wonderful way spend time hot summer we...</td>\n",
       "      <td>205.0</td>\n",
       "      <td>926.0</td>\n",
       "      <td>4.517073</td>\n",
       "      <td>4.0</td>\n",
       "    </tr>\n",
       "    <tr>\n",
       "      <th>3</th>\n",
       "      <td>Basically there's a family where a little boy ...</td>\n",
       "      <td>negative</td>\n",
       "      <td>basically there family little boy jake think t...</td>\n",
       "      <td>175.0</td>\n",
       "      <td>748.0</td>\n",
       "      <td>4.274286</td>\n",
       "      <td>6.0</td>\n",
       "    </tr>\n",
       "    <tr>\n",
       "      <th>4</th>\n",
       "      <td>Petter Mattei's \"Love in the Time of Money\" is...</td>\n",
       "      <td>positive</td>\n",
       "      <td>petter matteis love time money visually stunni...</td>\n",
       "      <td>283.0</td>\n",
       "      <td>1317.0</td>\n",
       "      <td>4.653710</td>\n",
       "      <td>9.0</td>\n",
       "    </tr>\n",
       "  </tbody>\n",
       "</table>\n",
       "</div>"
      ],
      "text/plain": [
       "                                              review sentiment  \\\n",
       "0  One of the other reviewers has mentioned that ...  positive   \n",
       "1  A wonderful little production. <br /><br />The...  positive   \n",
       "2  I thought this was a wonderful way to spend ti...  positive   \n",
       "3  Basically there's a family where a little boy ...  negative   \n",
       "4  Petter Mattei's \"Love in the Time of Money\" is...  positive   \n",
       "\n",
       "                                 preprocessed_review  word_count  char_count  \\\n",
       "0  one reviewer mentioned watching oz episode you...       380.0      1761.0   \n",
       "1  wonderful little production br br filming tech...       201.0       998.0   \n",
       "2  thought wonderful way spend time hot summer we...       205.0       926.0   \n",
       "3  basically there family little boy jake think t...       175.0       748.0   \n",
       "4  petter matteis love time money visually stunni...       283.0      1317.0   \n",
       "\n",
       "   avg_word_length  sentence_count  \n",
       "0         4.634211            10.0  \n",
       "1         4.965174             7.0  \n",
       "2         4.517073             4.0  \n",
       "3         4.274286             6.0  \n",
       "4         4.653710             9.0  "
      ]
     },
     "execution_count": 27,
     "metadata": {},
     "output_type": "execute_result"
    }
   ],
   "source": [
    "# Having look at dataset after adding columns.\n",
    "df.head()"
   ]
  },
  {
   "cell_type": "code",
   "execution_count": 28,
   "id": "f35cf7af-41a2-4db9-b270-c5e0f75c45c4",
   "metadata": {},
   "outputs": [
    {
     "data": {
      "text/html": [
       "<div>\n",
       "<style scoped>\n",
       "    .dataframe tbody tr th:only-of-type {\n",
       "        vertical-align: middle;\n",
       "    }\n",
       "\n",
       "    .dataframe tbody tr th {\n",
       "        vertical-align: top;\n",
       "    }\n",
       "\n",
       "    .dataframe thead th {\n",
       "        text-align: right;\n",
       "    }\n",
       "</style>\n",
       "<table border=\"1\" class=\"dataframe\">\n",
       "  <thead>\n",
       "    <tr style=\"text-align: right;\">\n",
       "      <th></th>\n",
       "      <th>word_count</th>\n",
       "      <th>char_count</th>\n",
       "      <th>avg_word_length</th>\n",
       "      <th>sentence_count</th>\n",
       "    </tr>\n",
       "  </thead>\n",
       "  <tbody>\n",
       "    <tr>\n",
       "      <th>count</th>\n",
       "      <td>50000.000000</td>\n",
       "      <td>50000.000000</td>\n",
       "      <td>50000.000000</td>\n",
       "      <td>50000.000000</td>\n",
       "    </tr>\n",
       "    <tr>\n",
       "      <th>mean</th>\n",
       "      <td>279.470740</td>\n",
       "      <td>1309.367720</td>\n",
       "      <td>4.677384</td>\n",
       "      <td>10.740600</td>\n",
       "    </tr>\n",
       "    <tr>\n",
       "      <th>std</th>\n",
       "      <td>207.956581</td>\n",
       "      <td>989.759532</td>\n",
       "      <td>0.349289</td>\n",
       "      <td>7.900382</td>\n",
       "    </tr>\n",
       "    <tr>\n",
       "      <th>min</th>\n",
       "      <td>3.000000</td>\n",
       "      <td>7.000000</td>\n",
       "      <td>2.221477</td>\n",
       "      <td>1.000000</td>\n",
       "    </tr>\n",
       "    <tr>\n",
       "      <th>25%</th>\n",
       "      <td>151.000000</td>\n",
       "      <td>699.000000</td>\n",
       "      <td>4.460526</td>\n",
       "      <td>6.000000</td>\n",
       "    </tr>\n",
       "    <tr>\n",
       "      <th>50%</th>\n",
       "      <td>209.000000</td>\n",
       "      <td>970.000000</td>\n",
       "      <td>4.675892</td>\n",
       "      <td>9.000000</td>\n",
       "    </tr>\n",
       "    <tr>\n",
       "      <th>75%</th>\n",
       "      <td>340.000000</td>\n",
       "      <td>1590.000000</td>\n",
       "      <td>4.894737</td>\n",
       "      <td>13.000000</td>\n",
       "    </tr>\n",
       "    <tr>\n",
       "      <th>max</th>\n",
       "      <td>2911.000000</td>\n",
       "      <td>13704.000000</td>\n",
       "      <td>7.849462</td>\n",
       "      <td>282.000000</td>\n",
       "    </tr>\n",
       "  </tbody>\n",
       "</table>\n",
       "</div>"
      ],
      "text/plain": [
       "         word_count    char_count  avg_word_length  sentence_count\n",
       "count  50000.000000  50000.000000     50000.000000    50000.000000\n",
       "mean     279.470740   1309.367720         4.677384       10.740600\n",
       "std      207.956581    989.759532         0.349289        7.900382\n",
       "min        3.000000      7.000000         2.221477        1.000000\n",
       "25%      151.000000    699.000000         4.460526        6.000000\n",
       "50%      209.000000    970.000000         4.675892        9.000000\n",
       "75%      340.000000   1590.000000         4.894737       13.000000\n",
       "max     2911.000000  13704.000000         7.849462      282.000000"
      ]
     },
     "execution_count": 28,
     "metadata": {},
     "output_type": "execute_result"
    }
   ],
   "source": [
    "# Looking for statiscal summary of our dataset\n",
    "df.describe()"
   ]
  },
  {
   "cell_type": "markdown",
   "id": "469b5d9a-999c-4a39-a730-e55ac4dc7dc3",
   "metadata": {},
   "source": [
    "From above data we can see that average(mean) words is 279 and maximum words are at 2911 where as minimum words are at 3.similarly<br>\n",
    "From above data we can see that average(mean) charater count is 1309 and maximum characters are at 13,704 where as minimum words are at 7.similarly<br>\n",
    "From above data we can see that average(mean) average word length is 4.67 and maximum word length are at 8 where as minimum word length are at 2.2.similarly<br>\n",
    "From above data we can see that average(mean) sentences is 10.75 and maximum sentences are at 282 where as minimum sentences are at 1."
   ]
  },
  {
   "cell_type": "markdown",
   "id": "5b9bb846-c407-4493-9481-b23e1d7915d3",
   "metadata": {},
   "source": [
    "## Model Development and Training"
   ]
  },
  {
   "cell_type": "code",
   "execution_count": 31,
   "id": "5df8362d-c803-4f62-ad62-32a1abe74e4a",
   "metadata": {},
   "outputs": [],
   "source": [
    "from sklearn.model_selection import train_test_split\n",
    "from sklearn.feature_extraction.text import TfidfVectorizer"
   ]
  },
  {
   "cell_type": "code",
   "execution_count": 32,
   "id": "92ba121b-b0c9-4d6d-8786-538573303804",
   "metadata": {},
   "outputs": [],
   "source": [
    "# Splittig the text into training and testing sets\n",
    "x_train_tfidf,x_test_tfidf,y_train_tfidf,y_test_tfidf = train_test_split(x_tfidf,y,test_size = 0.2,random_state = 42)"
   ]
  },
  {
   "cell_type": "code",
   "execution_count": 33,
   "id": "95f0d84a-f62c-4fa3-8ae0-7eed71e09617",
   "metadata": {},
   "outputs": [],
   "source": [
    "# Splittig the text into training and testing sets\n",
    "x_train_bow,x_test_bow,y_train_bow,y_test_bow = train_test_split(x_bow,y,test_size = 0.2,random_state = 42)"
   ]
  },
  {
   "cell_type": "markdown",
   "id": "a77bba3a-5b3b-4523-ab0b-b63cd1bc97b4",
   "metadata": {},
   "source": [
    "### Logistic Regression"
   ]
  },
  {
   "cell_type": "code",
   "execution_count": 35,
   "id": "2b032d66-1c90-485e-90c0-1d7b5386a971",
   "metadata": {},
   "outputs": [],
   "source": [
    "from sklearn.linear_model import LogisticRegression\n",
    "from sklearn.metrics import accuracy_score,classification_report,confusion_matrix"
   ]
  },
  {
   "cell_type": "code",
   "execution_count": 36,
   "id": "3b8afb4b-3042-41a2-8fa0-4b9ac294b769",
   "metadata": {},
   "outputs": [
    {
     "name": "stdout",
     "output_type": "stream",
     "text": [
      "The Accuracy of Logistic Regression Model is: 88.46000000000001\n"
     ]
    }
   ],
   "source": [
    "# Training the model with TF-IDF to test the model\n",
    "\n",
    "log_reg = LogisticRegression() #creating the logistic regression model\n",
    "# training the model \n",
    "log_reg.fit(x_train_tfidf,y_train_tfidf) \n",
    "# predicting values the model\n",
    "log_reg_pred_tfidf = log_reg.predict(x_test_tfidf)\n",
    "print(\"The Accuracy of Logistic Regression Model is:\",accuracy_score(log_reg_pred_tfidf,y_test_tfidf)*100)"
   ]
  },
  {
   "cell_type": "code",
   "execution_count": 37,
   "id": "9a1e55d9-8f50-41bc-812c-827cbca42ec1",
   "metadata": {},
   "outputs": [
    {
     "name": "stdout",
     "output_type": "stream",
     "text": [
      "The Accuracy of Logistic Regression Model is: 87.22999999999999\n"
     ]
    },
    {
     "name": "stderr",
     "output_type": "stream",
     "text": [
      "C:\\Users\\DELL\\anaconda3\\Lib\\site-packages\\sklearn\\linear_model\\_logistic.py:469: ConvergenceWarning: lbfgs failed to converge (status=1):\n",
      "STOP: TOTAL NO. of ITERATIONS REACHED LIMIT.\n",
      "\n",
      "Increase the number of iterations (max_iter) or scale the data as shown in:\n",
      "    https://scikit-learn.org/stable/modules/preprocessing.html\n",
      "Please also refer to the documentation for alternative solver options:\n",
      "    https://scikit-learn.org/stable/modules/linear_model.html#logistic-regression\n",
      "  n_iter_i = _check_optimize_result(\n"
     ]
    }
   ],
   "source": [
    "# Training the model with Bag of word to test the model\n",
    "log_reg.fit(x_train_bow,y_train_bow) # training the model\n",
    "# predicting values the model\n",
    "log_reg_pred_bow = log_reg.predict(x_test_bow)\n",
    "print(\"The Accuracy of Logistic Regression Model is:\",accuracy_score(log_reg_pred_bow,y_test_bow)*100)"
   ]
  },
  {
   "cell_type": "markdown",
   "id": "62580931-ee3e-4c6f-aab7-2c7bda0ced7e",
   "metadata": {},
   "source": [
    "### Naive Bayes"
   ]
  },
  {
   "cell_type": "code",
   "execution_count": 39,
   "id": "e402b33a-8e85-4b8c-a6bc-b52768a2fbfa",
   "metadata": {},
   "outputs": [],
   "source": [
    "from sklearn.naive_bayes import MultinomialNB"
   ]
  },
  {
   "cell_type": "code",
   "execution_count": 40,
   "id": "a7c2ac9c-8932-433a-b884-8678d617e905",
   "metadata": {},
   "outputs": [
    {
     "name": "stdout",
     "output_type": "stream",
     "text": [
      "The Accuracy of Naive Bayes Model is: 85.18\n"
     ]
    }
   ],
   "source": [
    "# Training the model with TF-IDF to test the model\n",
    "mb = MultinomialNB()\n",
    "# training the model \n",
    "mb.fit(x_train_tfidf,y_train_tfidf)\n",
    "# predicting values the model\n",
    "mb_pred_tfidf = mb.predict(x_test_tfidf)\n",
    "print(\"The Accuracy of Naive Bayes Model is:\",accuracy_score(mb_pred_tfidf,y_test_tfidf)*100)"
   ]
  },
  {
   "cell_type": "code",
   "execution_count": 41,
   "id": "e5d62e17-55e6-42c4-9bcb-d3b51b9a30ad",
   "metadata": {},
   "outputs": [
    {
     "name": "stdout",
     "output_type": "stream",
     "text": [
      "The Accuracy of Naive Bayes Model is: 84.55\n"
     ]
    }
   ],
   "source": [
    "# Training the model with Bag of word to test the model\n",
    "# training the model \n",
    "mb.fit(x_train_bow,y_train_bow)\n",
    "# predicting values the model\n",
    "mb_pred_bow = mb.predict(x_test_bow)\n",
    "print(\"The Accuracy of Naive Bayes Model is:\",accuracy_score(mb_pred_bow,y_test_bow)*100)"
   ]
  },
  {
   "cell_type": "markdown",
   "id": "7988e781-e85f-4da8-9179-657b3bc9a05b",
   "metadata": {},
   "source": [
    "### Random Forest"
   ]
  },
  {
   "cell_type": "code",
   "execution_count": 43,
   "id": "55902ac1-58e0-4cdb-9736-b6676b23d2c1",
   "metadata": {},
   "outputs": [],
   "source": [
    "from sklearn.ensemble import RandomForestClassifier"
   ]
  },
  {
   "cell_type": "code",
   "execution_count": 44,
   "id": "81b152e5-95f1-4628-9e7f-3d014e23d8fe",
   "metadata": {},
   "outputs": [
    {
     "name": "stdout",
     "output_type": "stream",
     "text": [
      "The Accuracy of Random Forest Model is: 84.8\n"
     ]
    }
   ],
   "source": [
    "# Training the model with TF-IDF to test the model\n",
    "rf = RandomForestClassifier()\n",
    "# training the model \n",
    "rf.fit(x_train_tfidf,y_train_tfidf)\n",
    "# predicting values the model\n",
    "rf_pred_tfidf = rf.predict(x_test_tfidf)\n",
    "print(\"The Accuracy of Random Forest Model is:\",accuracy_score(rf_pred_tfidf,y_test_tfidf)*100)"
   ]
  },
  {
   "cell_type": "code",
   "execution_count": 45,
   "id": "db15595d-41d2-40e7-ac5e-3c5e15ecf638",
   "metadata": {},
   "outputs": [
    {
     "name": "stdout",
     "output_type": "stream",
     "text": [
      "The Accuracy of Random Forest Model is: 84.69\n"
     ]
    }
   ],
   "source": [
    "# Training the model with Bag of word to test the model\n",
    "# training the model \n",
    "rf.fit(x_train_bow,y_train_bow)\n",
    "# predicting values the model\n",
    "rf_pred_bow = rf.predict(x_test_bow)\n",
    "print(\"The Accuracy of Random Forest Model is:\",accuracy_score(rf_pred_bow,y_test_bow)*100)"
   ]
  },
  {
   "cell_type": "markdown",
   "id": "024b3910-1301-4279-95fb-479cb2d5cbd9",
   "metadata": {},
   "source": [
    "### Support Vector Machine"
   ]
  },
  {
   "cell_type": "code",
   "execution_count": 47,
   "id": "4f3067b3-5496-4982-9035-5c870a4dfa77",
   "metadata": {},
   "outputs": [],
   "source": [
    "from sklearn.svm import LinearSVC "
   ]
  },
  {
   "cell_type": "code",
   "execution_count": 48,
   "id": "725ac8b6-95de-4280-b942-13a1676cf34b",
   "metadata": {},
   "outputs": [
    {
     "name": "stdout",
     "output_type": "stream",
     "text": [
      "The Accuracy of SVC Model is: 87.78\n"
     ]
    }
   ],
   "source": [
    "# Training the model with TF-IDF to test the model\n",
    "svc = LinearSVC()\n",
    "# training the model \n",
    "svc.fit(x_train_tfidf,y_train_tfidf)\n",
    "# predicting values the model \n",
    "svc_pred_tfidf = svc.predict(x_test_tfidf)\n",
    "print(\"The Accuracy of SVC Model is:\",accuracy_score(svc_pred_tfidf,y_test_tfidf)*100)"
   ]
  },
  {
   "cell_type": "code",
   "execution_count": 49,
   "id": "16341773-2e6f-4dc6-8bf8-66092e6961ae",
   "metadata": {},
   "outputs": [
    {
     "name": "stdout",
     "output_type": "stream",
     "text": [
      "The Accuracy of SVC Model is: 86.47\n"
     ]
    }
   ],
   "source": [
    "# Training the model with Bag of word to test the model\n",
    "# training the model \n",
    "svc.fit(x_train_bow,y_train_bow)\n",
    "# predicting values the model\n",
    "svc_pred_bow = svc.predict(x_test_bow)\n",
    "print(\"The Accuracy of SVC Model is:\",accuracy_score(svc_pred_bow,y_test_bow)*100)"
   ]
  },
  {
   "cell_type": "markdown",
   "id": "54ef8d2c-656c-4b4c-98fd-a65f9b6203bb",
   "metadata": {},
   "source": [
    "**Conclusion :** From the Models which have used to train our data we have seen that among the three model the Logistic Regression with Tf-idf vectorization has given the best accuracy of 89% .So we proceding with this model for prediciton of our Sentiment of Reviews of IMDb."
   ]
  },
  {
   "cell_type": "code",
   "execution_count": 51,
   "id": "67cf4017-0b3b-40db-a579-2b068a230213",
   "metadata": {},
   "outputs": [
    {
     "name": "stdout",
     "output_type": "stream",
     "text": [
      "The Classification Report of Logistic Regression Model:\n",
      "               precision    recall  f1-score   support\n",
      "\n",
      "    negative       0.87      0.89      0.88      4835\n",
      "    positive       0.90      0.88      0.89      5165\n",
      "\n",
      "    accuracy                           0.88     10000\n",
      "   macro avg       0.88      0.88      0.88     10000\n",
      "weighted avg       0.88      0.88      0.88     10000\n",
      "\n"
     ]
    }
   ],
   "source": [
    "# Classification Report\n",
    "print(\"The Classification Report of Logistic Regression Model:\\n\",classification_report(log_reg_pred_tfidf,y_test_tfidf))"
   ]
  },
  {
   "cell_type": "markdown",
   "id": "acbbc35b-17f3-4c63-a29a-a03e8cbb3002",
   "metadata": {},
   "source": [
    "Our Logistic Regression Model's Overall Accuracy = 88%<br>\n",
    "\n",
    "The model correctly classifies 88% of reviews (both positive & negative).<br>\n",
    "This is good performance for a basic logistic regression model.<br>\n",
    "    \n",
    "F1-Score (Balanced Performance Measure)<br>\n",
    "F1-score for both classes ~88-89% → Indicates a well-balanced model.<br>\n",
    "No major bias towards positive or negative reviews.<br>"
   ]
  },
  {
   "cell_type": "code",
   "execution_count": 53,
   "id": "513866b8-d7c3-45dd-9d89-4f842ee5de45",
   "metadata": {},
   "outputs": [
    {
     "data": {
      "image/png": "[encoded data removed]",
      "text/plain": [
       "<Figure size 640x480 with 2 Axes>"
      ]
     },
     "metadata": {},
     "output_type": "display_data"
    }
   ],
   "source": [
    "# Creating and visualising the COnfusion Matrix\n",
    "conf_matrix = confusion_matrix(log_reg_pred_tfidf,y_test_tfidf)\n",
    "\n",
    "sns.heatmap(conf_matrix, annot=True, fmt='d', cmap=\"Blues\", xticklabels=[\"Predicted 0\", \"Predicted 1\"], \n",
    "            yticklabels=[\"Actual 0\", \"Actual 1\"])\n",
    "plt.title(\"Confusion Matrix of Logistic Regression\")\n",
    "plt.xlabel(\"Predicted Labels\")\n",
    "plt.ylabel(\"Actual Labels\")\n",
    "plt.show()\n"
   ]
  },
  {
   "cell_type": "markdown",
   "id": "ea9f909d-f1e6-4386-b8b8-c55c2fa8e1b9",
   "metadata": {},
   "source": [
    "Our Test dataset is around 10,000 samples among all those samples Our Logistic Regression Model has predicted correctly for around 8846 values in which True positives contributes around 4525 and True Negative consists around 4321 and model wrongly predicted for 1154 samples in which False Negatives is around 640 and False Positive are around 514 values respectivelly.Overally we can say that our model performance is satisfactory with an accurary of around 88.5%."
   ]
  },
  {
   "cell_type": "markdown",
   "id": "980b72da-9a46-4347-8993-c90fd451cde3",
   "metadata": {},
   "source": [
    "## Predict sentiment for New Review"
   ]
  },
  {
   "cell_type": "code",
   "execution_count": 56,
   "id": "296f7963-00c5-4f8a-a8d6-cc556ba630eb",
   "metadata": {},
   "outputs": [],
   "source": [
    "def predict_sentiment():\n",
    "    user_input = str(input(\"Enter The Review:\"))\n",
    "    preprocess_text = preprocessing(user_input)\n",
    "    tfidf_review = vectorizer.transform([preprocess_text])\n",
    "    pred_sentiment = log_reg.predict(tfidf_review)\n",
    "    print(f\"The Review Entered :{user_input}\" )\n",
    "    print(f\"The Predicted sentiment for the New review is :{pred_sentiment}\")"
   ]
  },
  {
   "cell_type": "code",
   "execution_count": 57,
   "id": "e13f23bf-1981-43f3-85c6-0b0b8e055e7d",
   "metadata": {},
   "outputs": [
    {
     "name": "stdin",
     "output_type": "stream",
     "text": [
      "Enter The Review: An absolutely amazing movie with a fantastic storyline and great performances!\n"
     ]
    },
    {
     "name": "stdout",
     "output_type": "stream",
     "text": [
      "The Review Entered :An absolutely amazing movie with a fantastic storyline and great performances!\n",
      "The Predicted sentiment for the New review is :['positive']\n"
     ]
    }
   ],
   "source": [
    "predict_sentiment()"
   ]
  },
  {
   "cell_type": "code",
   "execution_count": 58,
   "id": "1d2443f3-b82c-4dcc-a382-d181dadf62d1",
   "metadata": {},
   "outputs": [
    {
     "name": "stdin",
     "output_type": "stream",
     "text": [
      "Enter The Review: The worst movie I have ever seen. Complete waste of time!\", \"label\n"
     ]
    },
    {
     "name": "stdout",
     "output_type": "stream",
     "text": [
      "The Review Entered :The worst movie I have ever seen. Complete waste of time!\", \"label\n",
      "The Predicted sentiment for the New review is :['negative']\n"
     ]
    }
   ],
   "source": [
    "predict_sentiment()"
   ]
  },
  {
   "cell_type": "code",
   "execution_count": 59,
   "id": "d7e8917b-3370-479e-8d7d-be169f1bb524",
   "metadata": {},
   "outputs": [
    {
     "name": "stdin",
     "output_type": "stream",
     "text": [
      "Enter The Review: Boring and predictable. I almost fell asleep watching it\n"
     ]
    },
    {
     "name": "stdout",
     "output_type": "stream",
     "text": [
      "The Review Entered :Boring and predictable. I almost fell asleep watching it\n",
      "The Predicted sentiment for the New review is :['negative']\n"
     ]
    }
   ],
   "source": [
    "predict_sentiment()"
   ]
  },
  {
   "cell_type": "code",
   "execution_count": null,
   "id": "24f1dd7d-6b48-4d25-8967-26c55b998a37",
   "metadata": {},
   "outputs": [],
   "source": []
  }
 ],
 "metadata": {
  "kernelspec": {
   "display_name": "Python 3 (ipykernel)",
   "language": "python",
   "name": "python3"
  },
  "language_info": {
   "codemirror_mode": {
    "name": "ipython",
    "version": 3
   },
   "file_extension": ".py",
   "mimetype": "text/x-python",
   "name": "python",
   "nbconvert_exporter": "python",
   "pygments_lexer": "ipython3",
   "version": "3.12.7"
  }
 },
 "nbformat": 4,
 "nbformat_minor": 5
}
